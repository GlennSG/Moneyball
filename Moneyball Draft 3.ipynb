{
 "cells": [
  {
   "cell_type": "markdown",
   "metadata": {},
   "source": [
    "# Moneyball"
   ]
  },
  {
   "cell_type": "markdown",
   "metadata": {},
   "source": [
    "The goal of this analysis is to use supervised learning models to predict 2002 baseball runs allowed (RA), runs scored (RS), and wins (W) using 1962-2001 baseball statistics. We will be comparing the different learning models to get a better understanding of different models' performance."
   ]
  },
  {
   "cell_type": "code",
   "execution_count": 1594,
   "metadata": {},
   "outputs": [],
   "source": [
    "import numpy as np\n",
    "import pandas as pd\n",
    "import matplotlib.pyplot as plt\n",
    "import seaborn as sns\n",
    "import preprocess_data\n",
    "plt.style.use(\"seaborn\")\n",
    "%matplotlib inline"
   ]
  },
  {
   "cell_type": "markdown",
   "metadata": {},
   "source": [
    "## Reading in the preprocessed baseball data"
   ]
  },
  {
   "cell_type": "code",
   "execution_count": 1595,
   "metadata": {},
   "outputs": [
    {
     "data": {
      "text/plain": [
       "(784, 11)"
      ]
     },
     "execution_count": 1595,
     "metadata": {},
     "output_type": "execute_result"
    }
   ],
   "source": [
    "preprocess_data.df3.shape"
   ]
  },
  {
   "cell_type": "code",
   "execution_count": 1596,
   "metadata": {},
   "outputs": [
    {
     "data": {
      "text/html": [
       "<div>\n",
       "<style scoped>\n",
       "    .dataframe tbody tr th:only-of-type {\n",
       "        vertical-align: middle;\n",
       "    }\n",
       "\n",
       "    .dataframe tbody tr th {\n",
       "        vertical-align: top;\n",
       "    }\n",
       "\n",
       "    .dataframe thead th {\n",
       "        text-align: right;\n",
       "    }\n",
       "</style>\n",
       "<table border=\"1\" class=\"dataframe\">\n",
       "  <thead>\n",
       "    <tr style=\"text-align: right;\">\n",
       "      <th></th>\n",
       "      <th>RS</th>\n",
       "      <th>RA</th>\n",
       "      <th>W</th>\n",
       "      <th>OBP</th>\n",
       "      <th>SLG</th>\n",
       "      <th>BA</th>\n",
       "      <th>OOBP</th>\n",
       "      <th>OSLG</th>\n",
       "      <th>Year</th>\n",
       "      <th>Team</th>\n",
       "      <th>RD</th>\n",
       "    </tr>\n",
       "  </thead>\n",
       "  <tbody>\n",
       "    <tr>\n",
       "      <th>300</th>\n",
       "      <td>851</td>\n",
       "      <td>644</td>\n",
       "      <td>99</td>\n",
       "      <td>0.341</td>\n",
       "      <td>0.433</td>\n",
       "      <td>0.282</td>\n",
       "      <td>0.314</td>\n",
       "      <td>0.392</td>\n",
       "      <td>2002</td>\n",
       "      <td>ANA</td>\n",
       "      <td>207</td>\n",
       "    </tr>\n",
       "    <tr>\n",
       "      <th>301</th>\n",
       "      <td>819</td>\n",
       "      <td>674</td>\n",
       "      <td>98</td>\n",
       "      <td>0.346</td>\n",
       "      <td>0.423</td>\n",
       "      <td>0.267</td>\n",
       "      <td>0.305</td>\n",
       "      <td>0.397</td>\n",
       "      <td>2002</td>\n",
       "      <td>ARI</td>\n",
       "      <td>145</td>\n",
       "    </tr>\n",
       "    <tr>\n",
       "      <th>302</th>\n",
       "      <td>708</td>\n",
       "      <td>565</td>\n",
       "      <td>101</td>\n",
       "      <td>0.331</td>\n",
       "      <td>0.409</td>\n",
       "      <td>0.260</td>\n",
       "      <td>0.313</td>\n",
       "      <td>0.364</td>\n",
       "      <td>2002</td>\n",
       "      <td>ATL</td>\n",
       "      <td>143</td>\n",
       "    </tr>\n",
       "  </tbody>\n",
       "</table>\n",
       "</div>"
      ],
      "text/plain": [
       "      RS   RA    W    OBP    SLG     BA   OOBP   OSLG  Year Team   RD\n",
       "300  851  644   99  0.341  0.433  0.282  0.314  0.392  2002  ANA  207\n",
       "301  819  674   98  0.346  0.423  0.267  0.305  0.397  2002  ARI  145\n",
       "302  708  565  101  0.331  0.409  0.260  0.313  0.364  2002  ATL  143"
      ]
     },
     "execution_count": 1596,
     "metadata": {},
     "output_type": "execute_result"
    }
   ],
   "source": [
    "data = preprocess_data.df3\n",
    "data.head(3)"
   ]
  },
  {
   "cell_type": "code",
   "execution_count": 1597,
   "metadata": {},
   "outputs": [
    {
     "data": {
      "text/plain": [
       "array([2002, 2001, 2000, 1999, 1998, 1997, 1996, 1993, 1992, 1991, 1990,\n",
       "       1989, 1988, 1987, 1986, 1985, 1984, 1983, 1982, 1980, 1979, 1978,\n",
       "       1977, 1976, 1975, 1974, 1973, 1971, 1970, 1969, 1968, 1967, 1966,\n",
       "       1965, 1964, 1963, 1962])"
      ]
     },
     "execution_count": 1597,
     "metadata": {},
     "output_type": "execute_result"
    }
   ],
   "source": [
    "# baseball stats between 1962 - 2002\n",
    "data[\"Year\"].unique()"
   ]
  },
  {
   "cell_type": "code",
   "execution_count": 1598,
   "metadata": {},
   "outputs": [],
   "source": [
    "# split dataset into pre- and post- 2002 datasets, for comparative analysis later\n",
    "pre_2002 = data[data[\"Year\"]<2002]\n",
    "post_2002 = data[data[\"Year\"]==2002]"
   ]
  },
  {
   "cell_type": "code",
   "execution_count": 1599,
   "metadata": {},
   "outputs": [
    {
     "data": {
      "text/plain": [
       "array([2001, 2000, 1999, 1998, 1997, 1996, 1993, 1992, 1991, 1990, 1989,\n",
       "       1988, 1987, 1986, 1985, 1984, 1983, 1982, 1980, 1979, 1978, 1977,\n",
       "       1976, 1975, 1974, 1973, 1971, 1970, 1969, 1968, 1967, 1966, 1965,\n",
       "       1964, 1963, 1962])"
      ]
     },
     "execution_count": 1599,
     "metadata": {},
     "output_type": "execute_result"
    }
   ],
   "source": [
    "# 1962 - 2001\n",
    "pre_2002[\"Year\"].unique()"
   ]
  },
  {
   "cell_type": "code",
   "execution_count": 1600,
   "metadata": {},
   "outputs": [
    {
     "data": {
      "text/plain": [
       "array([2002])"
      ]
     },
     "execution_count": 1600,
     "metadata": {},
     "output_type": "execute_result"
    }
   ],
   "source": [
    "# 2002\n",
    "post_2002[\"Year\"].unique()"
   ]
  },
  {
   "cell_type": "markdown",
   "metadata": {},
   "source": [
    "## Moneyball Analysis Overview"
   ]
  },
  {
   "cell_type": "markdown",
   "metadata": {},
   "source": [
    "The analysis will be based on the estimations provided by the featured film \"Moneyball (2011)\". The film is based on Paul DePodesta's (a.k.a Peter Brand played by Jonah Hill) application of Bill James's Sabermetrics to the Oakland A's 2002 season. Sabermetrics is the analysis of baseball statistics in order to measure in-game activity. "
   ]
  },
  {
   "cell_type": "markdown",
   "metadata": {},
   "source": [
    "### Pythagorean Expectation Formula\n",
    "A sports analytics formula created by Bill James that is designed to estimate the number of wins a baseball team should win based on the number of runs they scored (RS) and allowed (RA). A team wins if runs scored is higher than the opposite team's runs scored."
   ]
  },
  {
   "cell_type": "code",
   "execution_count": 1601,
   "metadata": {},
   "outputs": [
    {
     "data": {
      "text/latex": [
       "$$Win\\,Ratio = \\frac{(Runs\\,Scored)^2}{(Runs\\,Scored)^2 + (Runs\\,Allowed)^2}$$"
      ],
      "text/plain": [
       "<IPython.core.display.Latex object>"
      ]
     },
     "metadata": {},
     "output_type": "display_data"
    }
   ],
   "source": [
    "%%latex\n",
    "$$Win\\,Ratio = \\frac{(Runs\\,Scored)^2}{(Runs\\,Scored)^2 + (Runs\\,Allowed)^2}$$"
   ]
  },
  {
   "cell_type": "markdown",
   "metadata": {},
   "source": [
    "A baseball team needs to play 162 games before the playoff season. DePodesta predicted that a team would need about 99 wins to confidently secure a spot in the playoffs."
   ]
  },
  {
   "cell_type": "code",
   "execution_count": 1602,
   "metadata": {},
   "outputs": [
    {
     "data": {
      "image/png": "[encoded data removed]",
      "text/plain": [
       "<matplotlib.figure.Figure at 0x7f1564475748>"
      ]
     },
     "metadata": {},
     "output_type": "display_data"
    }
   ],
   "source": [
    "# visualizing DePodesta's win estimation\n",
    "mb_data = preprocess_data.df_copy\n",
    "mb_data = mb_data[mb_data[\"Year\"]<2002]\n",
    "plt.rcParams['figure.figsize'] = (23,13)\n",
    "mb_made_playoffs = mb_data[mb_data[\"Playoffs\"]==1]\n",
    "mb_no_playoffs = mb_data[mb_data[\"Playoffs\"]==0]\n",
    "\n",
    "plt.scatter(mb_made_playoffs[\"W\"],mb_made_playoffs[\"Team\"],color=\"blue\",label=\"Teams that made playoffs\")\n",
    "plt.scatter(mb_no_playoffs[\"W\"],mb_no_playoffs[\"Team\"],color=\"red\",label=\"Teams that did not make playoffs\")\n",
    "plt.axvline(x=99)\n",
    "plt.title(\"Wins per Team (1962-2001)\")\n",
    "plt.xlabel(\"Wins\")\n",
    "plt.ylabel(\"MLB Team\")\n",
    "plt.legend()\n",
    "plt.show()"
   ]
  },
  {
   "cell_type": "code",
   "execution_count": 1603,
   "metadata": {},
   "outputs": [
    {
     "name": "stdout",
     "output_type": "stream",
     "text": [
      "Years:  530     1993\n",
      "821     1980\n",
      "874     1978\n",
      "1222    1962\n",
      "Name: Year, dtype: int64\n",
      "Teams:  530     SFG\n",
      "821     BAL\n",
      "874     BOS\n",
      "1222    LAD\n",
      "Name: Team, dtype: object\n"
     ]
    }
   ],
   "source": [
    "mb_po = mb_data[(mb_data[\"W\"]>=99)&(mb_data[\"Playoffs\"]==0)]\n",
    "print(\"Years: \",mb_po[\"Year\"])\n",
    "print(\"Teams: \",mb_po[\"Team\"])"
   ]
  },
  {
   "cell_type": "markdown",
   "metadata": {},
   "source": [
    "The graph shows the number of teams that made it to the playoffs after playing 162 games between 1962-2001. The vertical line represents DePodesta's 99 win estimation. The estimation appears to be fairly accurate with only 3 teams not being able to make playoffs after 99 wins. It also looks like the 3 outliers appear to be centered in years pre-1990 which could indicate a different standard of playoff qualifications. Therefore, it is safe to conclude that 99 wins is a safe cutoff point for a guaranteed spot in the playoffs."
   ]
  },
  {
   "cell_type": "markdown",
   "metadata": {},
   "source": [
    "### Using pythagorean expectation formula to estimate RS & RA"
   ]
  },
  {
   "cell_type": "code",
   "execution_count": 1604,
   "metadata": {},
   "outputs": [
    {
     "data": {
      "text/latex": [
       "$$\\frac{99\\,wins}{162\\,games} = 0.61\\,win\\,ratio$$"
      ],
      "text/plain": [
       "<IPython.core.display.Latex object>"
      ]
     },
     "metadata": {},
     "output_type": "display_data"
    }
   ],
   "source": [
    "%%latex\n",
    "$$\\frac{99\\,wins}{162\\,games} = 0.61\\,win\\,ratio$$"
   ]
  },
  {
   "cell_type": "code",
   "execution_count": 1605,
   "metadata": {},
   "outputs": [
    {
     "data": {
      "text/latex": [
       "$$\\frac{(814)^2}{(814)^2+(645)^2} = 0.6143$$"
      ],
      "text/plain": [
       "<IPython.core.display.Latex object>"
      ]
     },
     "metadata": {},
     "output_type": "display_data"
    }
   ],
   "source": [
    "%%latex\n",
    "$$\\frac{(814)^2}{(814)^2+(645)^2} = 0.6143$$"
   ]
  },
  {
   "cell_type": "markdown",
   "metadata": {},
   "source": [
    "Looks like the base estimations for comparisons are the following:\n",
    "1. Runs Scored (RS): 814\n",
    "2. Runs Allowed (RA): 645\n",
    "3. Wins (W): 99"
   ]
  },
  {
   "cell_type": "markdown",
   "metadata": {},
   "source": [
    "### Some key baseball terminology:"
   ]
  },
  {
   "cell_type": "markdown",
   "metadata": {},
   "source": [
    "On-Base Percentage (OBP): a statistic that measures how frequently a batter reaches base\n",
    "\n",
    "Slugging Percentage (SLG): measure of the batting productivity of a hitter\n",
    "\n",
    "Batting Average (BA): measures the performance of batter\n",
    "\n",
    "Run Differential (RD): cumulative team statistic that combines offensive and defensive scoring (RS - RA). Can be used to predict the expected win total for a team."
   ]
  },
  {
   "cell_type": "code",
   "execution_count": 1606,
   "metadata": {},
   "outputs": [
    {
     "data": {
      "text/latex": [
       "$$Runs\\,Differential\\,(RD) = Runs\\,Scored(RS)-Runs\\,Allowed(RA)$$"
      ],
      "text/plain": [
       "<IPython.core.display.Latex object>"
      ]
     },
     "metadata": {},
     "output_type": "display_data"
    }
   ],
   "source": [
    "%%latex\n",
    "$$Runs\\,Differential\\,(RD) = Runs\\,Scored(RS)-Runs\\,Allowed(RA)$$"
   ]
  },
  {
   "cell_type": "code",
   "execution_count": 1607,
   "metadata": {},
   "outputs": [
    {
     "data": {
      "text/latex": [
       "$$On\\,Base\\,Percentage\\,(OBP) = \\frac{Hits(H)+Walks(BB)+HitByPitch(HBP)}{AtBat(AB)+Walks(BB)+HitByPitch(HBP)+SacrificeFly(SF)}$$"
      ],
      "text/plain": [
       "<IPython.core.display.Latex object>"
      ]
     },
     "metadata": {},
     "output_type": "display_data"
    }
   ],
   "source": [
    "%%latex\n",
    "$$On\\,Base\\,Percentage\\,(OBP) = \\frac{Hits(H)+Walks(BB)+HitByPitch(HBP)}{AtBat(AB)+Walks(BB)+HitByPitch(HBP)+SacrificeFly(SF)}$$"
   ]
  },
  {
   "cell_type": "code",
   "execution_count": 1608,
   "metadata": {},
   "outputs": [
    {
     "data": {
      "text/latex": [
       "$$Slugging\\,Percentage\\,(SLG) = \\frac{Single(1B) + (2*Double(2B)) + (3*Triple(3B)) + (4*HomeRun(HR))}{AtBat(AB)}$$"
      ],
      "text/plain": [
       "<IPython.core.display.Latex object>"
      ]
     },
     "metadata": {},
     "output_type": "display_data"
    }
   ],
   "source": [
    "%%latex\n",
    "$$Slugging\\,Percentage\\,(SLG) = \\frac{Single(1B) + (2*Double(2B)) + (3*Triple(3B)) + (4*HomeRun(HR))}{AtBat(AB)}$$"
   ]
  },
  {
   "cell_type": "code",
   "execution_count": 1609,
   "metadata": {},
   "outputs": [
    {
     "data": {
      "text/latex": [
       "$$Batting\\,Average\\,(BA) = \\frac{Hits(H)}{AtBat(AB)}$$"
      ],
      "text/plain": [
       "<IPython.core.display.Latex object>"
      ]
     },
     "metadata": {},
     "output_type": "display_data"
    }
   ],
   "source": [
    "%%latex\n",
    "$$Batting\\,Average\\,(BA) = \\frac{Hits(H)}{AtBat(AB)}$$"
   ]
  },
  {
   "cell_type": "markdown",
   "metadata": {},
   "source": [
    "### Sources\n",
    "1. https://en.wikipedia.org/wiki/Moneyball_(film)\n",
    "\n",
    "2. https://en.wikipedia.org/wiki/Paul_DePodesta\n",
    "\n",
    "3. https://en.wikipedia.org/wiki/Pythagorean_expectation\n",
    "\n",
    "4. https://en.wikipedia.org/wiki/Major_League_Baseball_schedule\n",
    "\n",
    "5. https://www.edx.org/course/analytics-edge-mitx-15-071x-3\n",
    "\n",
    "6. https://en.wikipedia.org/wiki/Run_differential\n",
    "\n",
    "7. https://www.kaggle.com/wduckett/moneyball-mlb-stats-19622012/home\n",
    "\n",
    "8. https://en.wikipedia.org/wiki/On-base_percentage\n",
    "\n",
    "9. https://en.wikipedia.org/wiki/Slugging_percentage"
   ]
  },
  {
   "cell_type": "markdown",
   "metadata": {},
   "source": [
    "## Feature Engineering for Models (RS, RA, W)\n",
    "\n",
    "We are going to create 3 models for the following target features:\n",
    "\n",
    "1. Runs Scored (RS)\n",
    "\n",
    "2. Runs Allowed (RA)\n",
    "\n",
    "3. Wins"
   ]
  },
  {
   "cell_type": "code",
   "execution_count": 1610,
   "metadata": {},
   "outputs": [
    {
     "data": {
      "image/png": "[encoded data removed]",
      "text/plain": [
       "<matplotlib.figure.Figure at 0x7f155c74f438>"
      ]
     },
     "metadata": {},
     "output_type": "display_data"
    }
   ],
   "source": [
    "# use correlation matrix to find features most correlated with the target features\n",
    "corrmat = pre_2002.corr()\n",
    "sns.heatmap(corrmat)\n",
    "plt.show()"
   ]
  },
  {
   "cell_type": "code",
   "execution_count": 1611,
   "metadata": {},
   "outputs": [
    {
     "data": {
      "text/html": [
       "<div>\n",
       "<style scoped>\n",
       "    .dataframe tbody tr th:only-of-type {\n",
       "        vertical-align: middle;\n",
       "    }\n",
       "\n",
       "    .dataframe tbody tr th {\n",
       "        vertical-align: top;\n",
       "    }\n",
       "\n",
       "    .dataframe thead th {\n",
       "        text-align: right;\n",
       "    }\n",
       "</style>\n",
       "<table border=\"1\" class=\"dataframe\">\n",
       "  <thead>\n",
       "    <tr style=\"text-align: right;\">\n",
       "      <th></th>\n",
       "      <th>RS</th>\n",
       "      <th>RA</th>\n",
       "      <th>W</th>\n",
       "      <th>OBP</th>\n",
       "      <th>SLG</th>\n",
       "      <th>BA</th>\n",
       "      <th>OOBP</th>\n",
       "      <th>OSLG</th>\n",
       "      <th>Year</th>\n",
       "      <th>RD</th>\n",
       "    </tr>\n",
       "  </thead>\n",
       "  <tbody>\n",
       "    <tr>\n",
       "      <th>RS</th>\n",
       "      <td>1.000000</td>\n",
       "      <td>0.322428</td>\n",
       "      <td>0.508873</td>\n",
       "      <td>0.844152</td>\n",
       "      <td>0.887560</td>\n",
       "      <td>0.751410</td>\n",
       "      <td>0.243532</td>\n",
       "      <td>0.320939</td>\n",
       "      <td>0.312768</td>\n",
       "      <td>0.549386</td>\n",
       "    </tr>\n",
       "    <tr>\n",
       "      <th>RA</th>\n",
       "      <td>0.322428</td>\n",
       "      <td>1.000000</td>\n",
       "      <td>-0.562632</td>\n",
       "      <td>0.276520</td>\n",
       "      <td>0.364495</td>\n",
       "      <td>0.246162</td>\n",
       "      <td>0.983270</td>\n",
       "      <td>0.991224</td>\n",
       "      <td>0.402767</td>\n",
       "      <td>-0.613807</td>\n",
       "    </tr>\n",
       "    <tr>\n",
       "      <th>W</th>\n",
       "      <td>0.508873</td>\n",
       "      <td>-0.562632</td>\n",
       "      <td>1.000000</td>\n",
       "      <td>0.445954</td>\n",
       "      <td>0.388901</td>\n",
       "      <td>0.381552</td>\n",
       "      <td>-0.636663</td>\n",
       "      <td>-0.563862</td>\n",
       "      <td>-0.083376</td>\n",
       "      <td>0.921040</td>\n",
       "    </tr>\n",
       "    <tr>\n",
       "      <th>OBP</th>\n",
       "      <td>0.844152</td>\n",
       "      <td>0.276520</td>\n",
       "      <td>0.445954</td>\n",
       "      <td>1.000000</td>\n",
       "      <td>0.696618</td>\n",
       "      <td>0.781816</td>\n",
       "      <td>0.252122</td>\n",
       "      <td>0.275279</td>\n",
       "      <td>0.304094</td>\n",
       "      <td>0.459933</td>\n",
       "    </tr>\n",
       "    <tr>\n",
       "      <th>SLG</th>\n",
       "      <td>0.887560</td>\n",
       "      <td>0.364495</td>\n",
       "      <td>0.388901</td>\n",
       "      <td>0.696618</td>\n",
       "      <td>1.000000</td>\n",
       "      <td>0.729160</td>\n",
       "      <td>0.282957</td>\n",
       "      <td>0.364121</td>\n",
       "      <td>0.359180</td>\n",
       "      <td>0.418479</td>\n",
       "    </tr>\n",
       "    <tr>\n",
       "      <th>BA</th>\n",
       "      <td>0.751410</td>\n",
       "      <td>0.246162</td>\n",
       "      <td>0.381552</td>\n",
       "      <td>0.781816</td>\n",
       "      <td>0.729160</td>\n",
       "      <td>1.000000</td>\n",
       "      <td>0.214265</td>\n",
       "      <td>0.253120</td>\n",
       "      <td>0.261876</td>\n",
       "      <td>0.409384</td>\n",
       "    </tr>\n",
       "    <tr>\n",
       "      <th>OOBP</th>\n",
       "      <td>0.243532</td>\n",
       "      <td>0.983270</td>\n",
       "      <td>-0.636663</td>\n",
       "      <td>0.252122</td>\n",
       "      <td>0.282957</td>\n",
       "      <td>0.214265</td>\n",
       "      <td>1.000000</td>\n",
       "      <td>0.978305</td>\n",
       "      <td>0.378053</td>\n",
       "      <td>-0.664837</td>\n",
       "    </tr>\n",
       "    <tr>\n",
       "      <th>OSLG</th>\n",
       "      <td>0.320939</td>\n",
       "      <td>0.991224</td>\n",
       "      <td>-0.563862</td>\n",
       "      <td>0.275279</td>\n",
       "      <td>0.364121</td>\n",
       "      <td>0.253120</td>\n",
       "      <td>0.978305</td>\n",
       "      <td>1.000000</td>\n",
       "      <td>0.401477</td>\n",
       "      <td>-0.607302</td>\n",
       "    </tr>\n",
       "    <tr>\n",
       "      <th>Year</th>\n",
       "      <td>0.312768</td>\n",
       "      <td>0.402767</td>\n",
       "      <td>-0.083376</td>\n",
       "      <td>0.304094</td>\n",
       "      <td>0.359180</td>\n",
       "      <td>0.261876</td>\n",
       "      <td>0.378053</td>\n",
       "      <td>0.401477</td>\n",
       "      <td>1.000000</td>\n",
       "      <td>-0.094679</td>\n",
       "    </tr>\n",
       "    <tr>\n",
       "      <th>RD</th>\n",
       "      <td>0.549386</td>\n",
       "      <td>-0.613807</td>\n",
       "      <td>0.921040</td>\n",
       "      <td>0.459933</td>\n",
       "      <td>0.418479</td>\n",
       "      <td>0.409384</td>\n",
       "      <td>-0.664837</td>\n",
       "      <td>-0.607302</td>\n",
       "      <td>-0.094679</td>\n",
       "      <td>1.000000</td>\n",
       "    </tr>\n",
       "  </tbody>\n",
       "</table>\n",
       "</div>"
      ],
      "text/plain": [
       "            RS        RA         W       OBP       SLG        BA      OOBP  \\\n",
       "RS    1.000000  0.322428  0.508873  0.844152  0.887560  0.751410  0.243532   \n",
       "RA    0.322428  1.000000 -0.562632  0.276520  0.364495  0.246162  0.983270   \n",
       "W     0.508873 -0.562632  1.000000  0.445954  0.388901  0.381552 -0.636663   \n",
       "OBP   0.844152  0.276520  0.445954  1.000000  0.696618  0.781816  0.252122   \n",
       "SLG   0.887560  0.364495  0.388901  0.696618  1.000000  0.729160  0.282957   \n",
       "BA    0.751410  0.246162  0.381552  0.781816  0.729160  1.000000  0.214265   \n",
       "OOBP  0.243532  0.983270 -0.636663  0.252122  0.282957  0.214265  1.000000   \n",
       "OSLG  0.320939  0.991224 -0.563862  0.275279  0.364121  0.253120  0.978305   \n",
       "Year  0.312768  0.402767 -0.083376  0.304094  0.359180  0.261876  0.378053   \n",
       "RD    0.549386 -0.613807  0.921040  0.459933  0.418479  0.409384 -0.664837   \n",
       "\n",
       "          OSLG      Year        RD  \n",
       "RS    0.320939  0.312768  0.549386  \n",
       "RA    0.991224  0.402767 -0.613807  \n",
       "W    -0.563862 -0.083376  0.921040  \n",
       "OBP   0.275279  0.304094  0.459933  \n",
       "SLG   0.364121  0.359180  0.418479  \n",
       "BA    0.253120  0.261876  0.409384  \n",
       "OOBP  0.978305  0.378053 -0.664837  \n",
       "OSLG  1.000000  0.401477 -0.607302  \n",
       "Year  0.401477  1.000000 -0.094679  \n",
       "RD   -0.607302 -0.094679  1.000000  "
      ]
     },
     "metadata": {},
     "output_type": "display_data"
    }
   ],
   "source": [
    "display(corrmat)"
   ]
  },
  {
   "cell_type": "markdown",
   "metadata": {},
   "source": [
    "We are looking for features that have a strong positive correlation with our desired target variables (between 0.7 to 0.9). \n",
    "\n",
    "Here's the breakdown based on the correlation matrix:\n",
    "1. Runs Allowed (RA) : Opponent's On-Base Percentage (OOBP), Opponent's Slugging Percentage (OSLG)\n",
    "\n",
    "2. Runs Scored (RS) : On-Base Percentage (OBP), Slugging Percentage (SLG), Batting Average (BA)\n",
    "\n",
    "3. Wins (W): Run Differential (RD)"
   ]
  },
  {
   "cell_type": "markdown",
   "metadata": {},
   "source": [
    "## Multivariate Linear Regression\n",
    "Initially using multivariate regression model based on features and target variable. However, will test linear assumptions before making predictions. "
   ]
  },
  {
   "cell_type": "code",
   "execution_count": 1612,
   "metadata": {},
   "outputs": [],
   "source": [
    "# may remove at end of project\n",
    "def establish_parameters():\n",
    "    # RS\n",
    "    X_RS = pre_2002[[\"OBP\",\"SLG\",\"BA\"]]\n",
    "    y_RS = pre_2002[\"RS\"]\n",
    "    # RA\n",
    "    X_RA = pre_2002[[\"OOBP\",\"OSLG\"]]\n",
    "    y_RA = pre_2002[\"RA\"]\n",
    "    # W\n",
    "    X_W = pre_2002[[\"RD\"]]\n",
    "    y_W = pre_2002[\"W\"]\n",
    "    return X_RS,y_RS,X_RA,y_RA,X_W,y_W\n",
    "\n",
    "from sklearn.model_selection import train_test_split\n",
    "def train_parameters(X,y):\n",
    "    X_train,X_test,y_train,y_test = train_test_split(X,y,test_size=0.2)\n",
    "    return X_train,X_test,y_train,y_test"
   ]
  },
  {
   "cell_type": "markdown",
   "metadata": {},
   "source": [
    "### Runs Scored (RS)"
   ]
  },
  {
   "cell_type": "code",
   "execution_count": 1613,
   "metadata": {},
   "outputs": [],
   "source": [
    "# establish features and target variables\n",
    "X_RS = pre_2002[[\"OBP\",\"SLG\",\"BA\"]]\n",
    "y_RS = pre_2002[\"RS\"]"
   ]
  },
  {
   "cell_type": "code",
   "execution_count": 1614,
   "metadata": {},
   "outputs": [],
   "source": [
    "# graphing function for plotting linear relationship between features and target variable\n",
    "def plot_scatter(X,y,y_axis_title,n_columns):\n",
    "    fig,ax = plt.subplots(nrows=1,ncols=n_columns)\n",
    "    y_ax = 0\n",
    "    \n",
    "    for col in X.columns:\n",
    "        x_sort = X[col].values\n",
    "        y_sort = y.values\n",
    "        ax[y_ax].scatter(x_sort,y_sort)\n",
    "        ax[y_ax].set_ylabel(y_axis_title)\n",
    "        ax[y_ax].set_xlabel(\"{}\".format(col))\n",
    "        y_ax += 1\n",
    "        \n",
    "    fig.tight_layout()\n",
    "    plt.show()"
   ]
  },
  {
   "cell_type": "code",
   "execution_count": 1615,
   "metadata": {},
   "outputs": [
    {
     "data": {
      "image/png": "[encoded data removed]",
      "text/plain": [
       "<matplotlib.figure.Figure at 0x7f155c7756a0>"
      ]
     },
     "metadata": {},
     "output_type": "display_data"
    }
   ],
   "source": [
    "plot_scatter(X_RS,y_RS,\"Runs Scored\",3)"
   ]
  },
  {
   "cell_type": "markdown",
   "metadata": {},
   "source": [
    "There is a linear relationship between \"Runs Scored\" features and target variable"
   ]
  },
  {
   "cell_type": "code",
   "execution_count": 1616,
   "metadata": {},
   "outputs": [],
   "source": [
    "# train & test set for RS\n",
    "XRS_train,XRS_test,yRS_train,yRS_test = train_test_split(X_RS,y_RS,test_size=0.2)"
   ]
  },
  {
   "cell_type": "code",
   "execution_count": 1617,
   "metadata": {},
   "outputs": [
    {
     "data": {
      "text/plain": [
       "LinearRegression(copy_X=True, fit_intercept=True, n_jobs=1, normalize=False)"
      ]
     },
     "execution_count": 1617,
     "metadata": {},
     "output_type": "execute_result"
    }
   ],
   "source": [
    "# fit linear regression to RS dataset\n",
    "from sklearn.linear_model import LinearRegression\n",
    "regr_RS = LinearRegression()\n",
    "regr_RS.fit(XRS_train,yRS_train)"
   ]
  },
  {
   "cell_type": "code",
   "execution_count": 1618,
   "metadata": {},
   "outputs": [],
   "source": [
    "# function for determining multivariate normality & homoscedasticity\n",
    "def multi_norm_homo(X,X_col,regr_model,n_columns):\n",
    "    actual = pre_2002[X_col]\n",
    "    # fit full X features dataset into prediction (not test dataset)\n",
    "    predicted = regr_model.predict(X)\n",
    "    residual = actual - predicted\n",
    "    \n",
    "    plt.rcParams[\"figure.figsize\"] = (12,6)\n",
    "    fig,ax = plt.subplots(nrows=1,ncols=n_columns)\n",
    "    \n",
    "    ax[0].hist(residual)\n",
    "    ax[0].set_title(\"Multivariate Normality (Residual Counts)\")\n",
    "    ax[0].set_xlabel(\"Residual\")\n",
    "    ax[0].set_ylabel(\"Count\")\n",
    "    \n",
    "    ax[1].scatter(predicted,residual)\n",
    "    ax[1].set_xlabel(\"Predicted\")\n",
    "    ax[1].set_ylabel(\"Residual\")\n",
    "    ax[1].axhline(y=0)\n",
    "    ax[1].set_title(\"Homoscedasticity (Residual vs. Predicted)\")\n",
    "    \n",
    "    fig.tight_layout()\n",
    "    plt.show()"
   ]
  },
  {
   "cell_type": "code",
   "execution_count": 1619,
   "metadata": {},
   "outputs": [
    {
     "data": {
      "image/png": "[encoded data removed]",
      "text/plain": [
       "<matplotlib.figure.Figure at 0x7f156401fb38>"
      ]
     },
     "metadata": {},
     "output_type": "display_data"
    }
   ],
   "source": [
    "multi_norm_homo(X_RS,\"RS\",regr_RS,2)"
   ]
  },
  {
   "cell_type": "markdown",
   "metadata": {},
   "source": [
    "Appears the residual follows a normal distribution and there is a homoscedastic relationship between predicted and residual values. "
   ]
  },
  {
   "cell_type": "code",
   "execution_count": 1620,
   "metadata": {},
   "outputs": [
    {
     "name": "stdout",
     "output_type": "stream",
     "text": [
      "Coefficients:\n",
      " [2805.9558611  1659.9774753  -408.64351362]\n",
      "\n",
      "Intercept:\n",
      " -751.6281327230031\n",
      "\n",
      "R-squared:\n",
      " 0.8597302019856367\n"
     ]
    }
   ],
   "source": [
    "# evaluating model performance (RS)\n",
    "print(\"Coefficients:\\n\",regr_RS.coef_)\n",
    "print(\"\\nIntercept:\\n\",regr_RS.intercept_)\n",
    "print(\"\\nR-squared:\\n\",regr_RS.score(XRS_test,yRS_test))"
   ]
  },
  {
   "cell_type": "code",
   "execution_count": 1621,
   "metadata": {},
   "outputs": [
    {
     "name": "stdout",
     "output_type": "stream",
     "text": [
      "[0.86535779 0.84744611 0.80942664 0.86304231 0.85538966 0.88536053\n",
      " 0.90428955 0.84230533 0.90618462 0.8472854 ]\n"
     ]
    }
   ],
   "source": [
    "# evaluating model using cross validation\n",
    "from sklearn.model_selection import cross_val_score\n",
    "cvs_RS = cross_val_score(estimator=regr_RS,X=X_RS,y=y_RS,cv=10)\n",
    "print(cvs_RS)"
   ]
  },
  {
   "cell_type": "code",
   "execution_count": 1622,
   "metadata": {},
   "outputs": [],
   "source": [
    "# testing individual parameters\n",
    "import statsmodels.formula.api as sm\n",
    "linear_formula_RS = 'RS ~ OBP + SLG + BA'\n",
    "lm_RS = sm.ols(formula=linear_formula_RS,data=pre_2002).fit()"
   ]
  },
  {
   "cell_type": "code",
   "execution_count": 1623,
   "metadata": {},
   "outputs": [
    {
     "data": {
      "text/plain": [
       "Intercept    2.662364e-130\n",
       "OBP           1.296124e-87\n",
       "SLG          8.965283e-144\n",
       "BA            2.151727e-02\n",
       "dtype: float64"
      ]
     },
     "execution_count": 1623,
     "metadata": {},
     "output_type": "execute_result"
    }
   ],
   "source": [
    "# check p-values for features and target variable, if p-value > 0.05 drop feature\n",
    "lm_RS.pvalues"
   ]
  },
  {
   "cell_type": "markdown",
   "metadata": {},
   "source": [
    "BA has negative coefficient, may indicate multicollinearity. Lets remove for future data analysis."
   ]
  },
  {
   "cell_type": "code",
   "execution_count": 1624,
   "metadata": {},
   "outputs": [
    {
     "data": {
      "text/plain": [
       "LinearRegression(copy_X=True, fit_intercept=True, n_jobs=1, normalize=False)"
      ]
     },
     "execution_count": 1624,
     "metadata": {},
     "output_type": "execute_result"
    }
   ],
   "source": [
    "# remove BA\n",
    "X_RS = pre_2002[[\"OBP\",\"SLG\"]]\n",
    "XRS_train,XRS_test,yRS_train,yRS_test = train_test_split(X_RS,y_RS,test_size=0.2)\n",
    "regr_RS.fit(XRS_train,yRS_train)"
   ]
  },
  {
   "cell_type": "code",
   "execution_count": 1625,
   "metadata": {},
   "outputs": [
    {
     "name": "stdout",
     "output_type": "stream",
     "text": [
      "Coefficients:\n",
      " [2549.78816306 1588.92768197]\n",
      "\n",
      "Intercept:\n",
      " -746.487179178678\n",
      "\n",
      "R-squared:\n",
      " 0.8914596007980202\n"
     ]
    }
   ],
   "source": [
    "# evaluating model performance (RS)\n",
    "print(\"Coefficients:\\n\",regr_RS.coef_)\n",
    "print(\"\\nIntercept:\\n\",regr_RS.intercept_)\n",
    "print(\"\\nR-squared:\\n\",regr_RS.score(XRS_test,yRS_test))"
   ]
  },
  {
   "cell_type": "code",
   "execution_count": 1626,
   "metadata": {},
   "outputs": [
    {
     "name": "stdout",
     "output_type": "stream",
     "text": [
      "[0.87079743 0.84803503 0.80515307 0.86227821 0.8559369  0.88224901\n",
      " 0.90349773 0.84088214 0.90309005 0.84835513]\n"
     ]
    }
   ],
   "source": [
    "cvs_RS = cross_val_score(estimator=regr_RS,X=X_RS,y=y_RS,cv=10)\n",
    "print(cvs_RS)"
   ]
  },
  {
   "cell_type": "markdown",
   "metadata": {},
   "source": [
    "### Runs Allowed (RA)\n",
    "Note: was missing data for \"OOBP\" and \"OSLG\" and decided to impute data (814 missing data imputed)."
   ]
  },
  {
   "cell_type": "code",
   "execution_count": 1627,
   "metadata": {},
   "outputs": [],
   "source": [
    "X_RA = pre_2002[[\"OOBP\",\"OSLG\"]]\n",
    "y_RA = pre_2002[\"RA\"]"
   ]
  },
  {
   "cell_type": "code",
   "execution_count": 1628,
   "metadata": {},
   "outputs": [
    {
     "data": {
      "image/png": "[encoded data removed]",
      "text/plain": [
       "<matplotlib.figure.Figure at 0x7f156401f630>"
      ]
     },
     "metadata": {},
     "output_type": "display_data"
    }
   ],
   "source": [
    "plot_scatter(X_RA,y_RA,\"Runs Allowed\",2)"
   ]
  },
  {
   "cell_type": "code",
   "execution_count": 1629,
   "metadata": {},
   "outputs": [],
   "source": [
    "# create train & test set for RA\n",
    "XRA_train,XRA_test,yRA_train,yRA_test = train_test_split(X_RA,y_RA,test_size=0.2)"
   ]
  },
  {
   "cell_type": "code",
   "execution_count": 1630,
   "metadata": {},
   "outputs": [
    {
     "data": {
      "text/plain": [
       "LinearRegression(copy_X=True, fit_intercept=True, n_jobs=1, normalize=False)"
      ]
     },
     "execution_count": 1630,
     "metadata": {},
     "output_type": "execute_result"
    }
   ],
   "source": [
    "# fit linear regression to RA dataset\n",
    "regr_RA = LinearRegression()\n",
    "regr_RA.fit(XRA_train,yRA_train)"
   ]
  },
  {
   "cell_type": "code",
   "execution_count": 1631,
   "metadata": {},
   "outputs": [
    {
     "data": {
      "image/png": "[encoded data removed]",
      "text/plain": [
       "<matplotlib.figure.Figure at 0x7f1566710a20>"
      ]
     },
     "metadata": {},
     "output_type": "display_data"
    }
   ],
   "source": [
    "# checking for multivariate normality & homoscedasticity\n",
    "multi_norm_homo(X_RA,\"RA\",regr_RA,2)"
   ]
  },
  {
   "cell_type": "markdown",
   "metadata": {},
   "source": [
    "The residual appears to follow a normal distribution, but there appears to be a weak homoscedastic relationship between residual and predicted values. "
   ]
  },
  {
   "cell_type": "code",
   "execution_count": 1632,
   "metadata": {},
   "outputs": [
    {
     "name": "stdout",
     "output_type": "stream",
     "text": [
      "Coefficients:\n",
      " [2045.85413331 2398.74101388]\n",
      "\n",
      "Intercept:\n",
      " -929.0551015135509\n",
      "\n",
      "R-squared:\n",
      " 0.9878167726466406\n"
     ]
    }
   ],
   "source": [
    "# evaluating model performance (RA)\n",
    "print(\"Coefficients:\\n\",regr_RA.coef_)\n",
    "print(\"\\nIntercept:\\n\",regr_RA.intercept_)\n",
    "print(\"\\nR-squared:\\n\",regr_RA.score(XRA_test,yRA_test))"
   ]
  },
  {
   "cell_type": "code",
   "execution_count": 1633,
   "metadata": {},
   "outputs": [
    {
     "name": "stdout",
     "output_type": "stream",
     "text": [
      "[0.74881572 0.99739843 0.99665042 0.9975392  0.99705823 0.99586107\n",
      " 0.99508234 0.99524828 0.99764803 0.99628642]\n"
     ]
    }
   ],
   "source": [
    "# evaluating model performance with cross validation\n",
    "cvs_RA = cross_val_score(estimator=regr_RA,X=X_RA,y=y_RA,cv=10)\n",
    "print(cvs_RA)"
   ]
  },
  {
   "cell_type": "code",
   "execution_count": 1634,
   "metadata": {},
   "outputs": [],
   "source": [
    "# test individual parameters\n",
    "linear_formula = 'RA ~ OOBP + OSLG'\n",
    "lm = sm.ols(formula=linear_formula,data=pre_2002).fit()"
   ]
  },
  {
   "cell_type": "code",
   "execution_count": 1635,
   "metadata": {},
   "outputs": [
    {
     "data": {
      "text/plain": [
       "Intercept    3.646571e-311\n",
       "OOBP          3.554394e-48\n",
       "OSLG         6.420680e-154\n",
       "dtype: float64"
      ]
     },
     "execution_count": 1635,
     "metadata": {},
     "output_type": "execute_result"
    }
   ],
   "source": [
    "lm.pvalues"
   ]
  },
  {
   "cell_type": "markdown",
   "metadata": {},
   "source": [
    "### Wins (W)"
   ]
  },
  {
   "cell_type": "code",
   "execution_count": 1636,
   "metadata": {},
   "outputs": [],
   "source": [
    "X_W = pre_2002[[\"RD\"]]\n",
    "y_W = pre_2002[\"W\"]"
   ]
  },
  {
   "cell_type": "code",
   "execution_count": 1637,
   "metadata": {},
   "outputs": [
    {
     "data": {
      "image/png": "[encoded data removed]",
      "text/plain": [
       "<matplotlib.figure.Figure at 0x7f15666f7b38>"
      ]
     },
     "metadata": {},
     "output_type": "display_data"
    }
   ],
   "source": [
    "# visualize relationship between RD and W\n",
    "x_sort = sorted(X_W.values)\n",
    "y_sort = sorted(y_W.values)\n",
    "plt.scatter(x_sort,y_sort)\n",
    "plt.ylabel(\"Wins\")\n",
    "plt.xlabel(\"Run Differential\")\n",
    "plt.title(\"Run Differential (RD) vs. Wins (W)\")\n",
    "plt.show()"
   ]
  },
  {
   "cell_type": "code",
   "execution_count": 1638,
   "metadata": {},
   "outputs": [],
   "source": [
    "# create train & test set for W\n",
    "XW_train,XW_test,yW_train,yW_test = train_test_split(X_W,y_W,test_size=0.2)"
   ]
  },
  {
   "cell_type": "code",
   "execution_count": 1639,
   "metadata": {},
   "outputs": [
    {
     "data": {
      "text/plain": [
       "LinearRegression(copy_X=True, fit_intercept=True, n_jobs=1, normalize=False)"
      ]
     },
     "execution_count": 1639,
     "metadata": {},
     "output_type": "execute_result"
    }
   ],
   "source": [
    "# fit linear regression to W dataset\n",
    "regr_W = LinearRegression()\n",
    "regr_W.fit(XW_train,yW_train)"
   ]
  },
  {
   "cell_type": "code",
   "execution_count": 1640,
   "metadata": {
    "scrolled": false
   },
   "outputs": [
    {
     "data": {
      "image/png": "[encoded data removed]",
      "text/plain": [
       "<matplotlib.figure.Figure at 0x7f15658055c0>"
      ]
     },
     "metadata": {},
     "output_type": "display_data"
    }
   ],
   "source": [
    "# checking for multivariate normality & homoscedasticity\n",
    "multi_norm_homo(X_W,\"W\",regr_W,2)"
   ]
  },
  {
   "cell_type": "markdown",
   "metadata": {},
   "source": [
    "Appears the residual follows a normal distribution and there is a homoscedastic relationship between predicted and residual values. "
   ]
  },
  {
   "cell_type": "code",
   "execution_count": 1641,
   "metadata": {},
   "outputs": [
    {
     "name": "stdout",
     "output_type": "stream",
     "text": [
      "Coefficients:\n",
      " [0.1063064]\n",
      "\n",
      "Intercept:\n",
      " 80.87951605937683\n",
      "\n",
      "R-squared:\n",
      " 0.850231248607522\n"
     ]
    }
   ],
   "source": [
    "# evaluating model performance (W)\n",
    "print(\"Coefficients:\\n\",regr_W.coef_)\n",
    "print(\"\\nIntercept:\\n\",regr_W.intercept_)\n",
    "print(\"\\nR-squared:\\n\",regr_W.score(XW_test,yW_test))"
   ]
  },
  {
   "cell_type": "code",
   "execution_count": 1642,
   "metadata": {},
   "outputs": [
    {
     "name": "stdout",
     "output_type": "stream",
     "text": [
      "[0.90354023 0.79905102 0.85810646 0.82809896 0.82903313 0.8578853\n",
      " 0.85316979 0.82510435 0.83389087 0.85336304]\n"
     ]
    }
   ],
   "source": [
    "# evaluating model performance using cross-validation\n",
    "cvs_W = cross_val_score(estimator=regr_W,X=X_W,y=y_W,cv=10)\n",
    "print(cvs_W)"
   ]
  },
  {
   "cell_type": "code",
   "execution_count": 1643,
   "metadata": {},
   "outputs": [],
   "source": [
    "# test individual parameters\n",
    "linear_formula = 'W ~ RD'\n",
    "lm = sm.ols(formula=linear_formula,data=pre_2002).fit()"
   ]
  },
  {
   "cell_type": "code",
   "execution_count": 1644,
   "metadata": {},
   "outputs": [
    {
     "data": {
      "text/plain": [
       "Intercept     0.000000e+00\n",
       "RD           4.628305e-313\n",
       "dtype: float64"
      ]
     },
     "execution_count": 1644,
     "metadata": {},
     "output_type": "execute_result"
    }
   ],
   "source": [
    "lm.pvalues"
   ]
  },
  {
   "cell_type": "markdown",
   "metadata": {},
   "source": [
    "## Making Predictions"
   ]
  },
  {
   "cell_type": "markdown",
   "metadata": {},
   "source": [
    "### Runs Scored (RS)"
   ]
  },
  {
   "cell_type": "code",
   "execution_count": 1645,
   "metadata": {},
   "outputs": [
    {
     "data": {
      "text/html": [
       "<div>\n",
       "<style scoped>\n",
       "    .dataframe tbody tr th:only-of-type {\n",
       "        vertical-align: middle;\n",
       "    }\n",
       "\n",
       "    .dataframe tbody tr th {\n",
       "        vertical-align: top;\n",
       "    }\n",
       "\n",
       "    .dataframe thead th {\n",
       "        text-align: right;\n",
       "    }\n",
       "</style>\n",
       "<table border=\"1\" class=\"dataframe\">\n",
       "  <thead>\n",
       "    <tr style=\"text-align: right;\">\n",
       "      <th></th>\n",
       "      <th>Actual_RS</th>\n",
       "      <th>Predicted_RS</th>\n",
       "    </tr>\n",
       "  </thead>\n",
       "  <tbody>\n",
       "    <tr>\n",
       "      <th>597</th>\n",
       "      <td>728</td>\n",
       "      <td>696.813713</td>\n",
       "    </tr>\n",
       "    <tr>\n",
       "      <th>675</th>\n",
       "      <td>635</td>\n",
       "      <td>630.889533</td>\n",
       "    </tr>\n",
       "    <tr>\n",
       "      <th>687</th>\n",
       "      <td>798</td>\n",
       "      <td>721.055460</td>\n",
       "    </tr>\n",
       "  </tbody>\n",
       "</table>\n",
       "</div>"
      ],
      "text/plain": [
       "     Actual_RS  Predicted_RS\n",
       "597        728    696.813713\n",
       "675        635    630.889533\n",
       "687        798    721.055460"
      ]
     },
     "execution_count": 1645,
     "metadata": {},
     "output_type": "execute_result"
    }
   ],
   "source": [
    "RS_pred = regr_RS.predict(XRS_test)\n",
    "RS_comp = pd.DataFrame({\"Actual_RS\":yRS_test,\"Predicted_RS\":RS_pred})\n",
    "RS_comp.head(3)"
   ]
  },
  {
   "cell_type": "markdown",
   "metadata": {},
   "source": [
    "### Runs Allowed (RA)"
   ]
  },
  {
   "cell_type": "code",
   "execution_count": 1646,
   "metadata": {},
   "outputs": [
    {
     "data": {
      "text/html": [
       "<div>\n",
       "<style scoped>\n",
       "    .dataframe tbody tr th:only-of-type {\n",
       "        vertical-align: middle;\n",
       "    }\n",
       "\n",
       "    .dataframe tbody tr th {\n",
       "        vertical-align: top;\n",
       "    }\n",
       "\n",
       "    .dataframe thead th {\n",
       "        text-align: right;\n",
       "    }\n",
       "</style>\n",
       "<table border=\"1\" class=\"dataframe\">\n",
       "  <thead>\n",
       "    <tr style=\"text-align: right;\">\n",
       "      <th></th>\n",
       "      <th>Actual_RA</th>\n",
       "      <th>Predicted_RA</th>\n",
       "    </tr>\n",
       "  </thead>\n",
       "  <tbody>\n",
       "    <tr>\n",
       "      <th>905</th>\n",
       "      <td>739</td>\n",
       "      <td>747.410362</td>\n",
       "    </tr>\n",
       "    <tr>\n",
       "      <th>1197</th>\n",
       "      <td>702</td>\n",
       "      <td>695.182065</td>\n",
       "    </tr>\n",
       "    <tr>\n",
       "      <th>656</th>\n",
       "      <td>734</td>\n",
       "      <td>736.096601</td>\n",
       "    </tr>\n",
       "  </tbody>\n",
       "</table>\n",
       "</div>"
      ],
      "text/plain": [
       "      Actual_RA  Predicted_RA\n",
       "905         739    747.410362\n",
       "1197        702    695.182065\n",
       "656         734    736.096601"
      ]
     },
     "execution_count": 1646,
     "metadata": {},
     "output_type": "execute_result"
    }
   ],
   "source": [
    "RA_pred = regr_RA.predict(XRA_test)\n",
    "RA_comp = pd.DataFrame({\"Actual_RA\":yRA_test,\"Predicted_RA\":RA_pred})\n",
    "RA_comp.head(3)"
   ]
  },
  {
   "cell_type": "markdown",
   "metadata": {},
   "source": [
    "### Wins (W)"
   ]
  },
  {
   "cell_type": "code",
   "execution_count": 1647,
   "metadata": {},
   "outputs": [
    {
     "data": {
      "text/html": [
       "<div>\n",
       "<style scoped>\n",
       "    .dataframe tbody tr th:only-of-type {\n",
       "        vertical-align: middle;\n",
       "    }\n",
       "\n",
       "    .dataframe tbody tr th {\n",
       "        vertical-align: top;\n",
       "    }\n",
       "\n",
       "    .dataframe thead th {\n",
       "        text-align: right;\n",
       "    }\n",
       "</style>\n",
       "<table border=\"1\" class=\"dataframe\">\n",
       "  <thead>\n",
       "    <tr style=\"text-align: right;\">\n",
       "      <th></th>\n",
       "      <th>Actual_W</th>\n",
       "      <th>Predicted_W</th>\n",
       "    </tr>\n",
       "  </thead>\n",
       "  <tbody>\n",
       "    <tr>\n",
       "      <th>966</th>\n",
       "      <td>86</td>\n",
       "      <td>85.238078</td>\n",
       "    </tr>\n",
       "    <tr>\n",
       "      <th>857</th>\n",
       "      <td>79</td>\n",
       "      <td>83.218257</td>\n",
       "    </tr>\n",
       "    <tr>\n",
       "      <th>494</th>\n",
       "      <td>88</td>\n",
       "      <td>88.639883</td>\n",
       "    </tr>\n",
       "  </tbody>\n",
       "</table>\n",
       "</div>"
      ],
      "text/plain": [
       "     Actual_W  Predicted_W\n",
       "966        86    85.238078\n",
       "857        79    83.218257\n",
       "494        88    88.639883"
      ]
     },
     "execution_count": 1647,
     "metadata": {},
     "output_type": "execute_result"
    }
   ],
   "source": [
    "W_pred = regr_W.predict(XW_test)\n",
    "W_comp = pd.DataFrame({\"Actual_W\":yW_test,\"Predicted_W\":W_pred})\n",
    "W_comp.head(3)"
   ]
  },
  {
   "cell_type": "markdown",
   "metadata": {},
   "source": [
    "## Improving predictions with other regression models"
   ]
  },
  {
   "cell_type": "markdown",
   "metadata": {},
   "source": [
    "### Support Vector Regression (SVR)"
   ]
  },
  {
   "cell_type": "code",
   "execution_count": 1648,
   "metadata": {},
   "outputs": [],
   "source": [
    "from sklearn.preprocessing import StandardScaler\n",
    "\n",
    "# create function for scaling data\n",
    "def scale_data(x,y):\n",
    "    sc_x = StandardScaler()\n",
    "    x_scale = sc_x.fit_transform(x)\n",
    "    sc_y = StandardScaler()\n",
    "    y_scale = sc_y.fit_transform(y.values.reshape(-1,1))\n",
    "    return x_scale,y_scale,sc_y"
   ]
  },
  {
   "cell_type": "code",
   "execution_count": 1649,
   "metadata": {},
   "outputs": [
    {
     "name": "stderr",
     "output_type": "stream",
     "text": [
      "/home/glenn/anaconda3/lib/python3.6/site-packages/sklearn/utils/validation.py:475: DataConversionWarning: Data with input dtype int64 was converted to float64 by StandardScaler.\n",
      "  warnings.warn(msg, DataConversionWarning)\n"
     ]
    }
   ],
   "source": [
    "# scale data for SVR model\n",
    "\n",
    "# RS\n",
    "sc_RSX,sc_RSy,RSysc = scale_data(X_RS,y_RS)\n",
    "\n",
    "# RA\n",
    "sc_RAX,sc_RAy,RAysc = scale_data(X_RA,y_RA)\n",
    "# W\n",
    "sc_WX,sc_Wy,Wysc = scale_data(X_W,y_W)"
   ]
  },
  {
   "cell_type": "code",
   "execution_count": 1650,
   "metadata": {},
   "outputs": [],
   "source": [
    "# create train & test data with scaled data\n",
    "\n",
    "# RS\n",
    "XRS_sc_train,XRS_sc_test,yRS_sc_train,yRS_sc_test = train_test_split(sc_RSX,sc_RSy,test_size=0.2)\n",
    "# RA\n",
    "XRA_sc_train,XRA_sc_test,yRA_sc_train,yRA_sc_test = train_test_split(sc_RAX,sc_RAy,test_size=0.2)\n",
    "# W\n",
    "XW_sc_train,XW_sc_test,yW_sc_train,yW_sc_test = train_test_split(sc_WX,sc_Wy,test_size=0.2)"
   ]
  },
  {
   "cell_type": "code",
   "execution_count": 1651,
   "metadata": {},
   "outputs": [
    {
     "data": {
      "text/plain": [
       "SVR(C=1.0, cache_size=200, coef0=0.0, degree=3, epsilon=0.1, gamma='auto',\n",
       "  kernel='rbf', max_iter=-1, shrinking=True, tol=0.001, verbose=False)"
      ]
     },
     "execution_count": 1651,
     "metadata": {},
     "output_type": "execute_result"
    }
   ],
   "source": [
    "# fit SVR to datasets\n",
    "from sklearn.svm import SVR\n",
    "# RS\n",
    "svr_RS = SVR()\n",
    "svr_RS.fit(XRS_sc_train,yRS_sc_train.ravel())\n",
    "# RA\n",
    "svr_RA = SVR()\n",
    "svr_RA.fit(XRA_sc_train,yRA_sc_train.ravel())\n",
    "# W\n",
    "svr_W = SVR()\n",
    "svr_W.fit(XW_sc_train,yW_sc_train.ravel())"
   ]
  },
  {
   "cell_type": "code",
   "execution_count": 1652,
   "metadata": {},
   "outputs": [],
   "source": [
    "# functions for evaluating model performance\n",
    "def model_perform(xRS_test,xRA_test,xW_test,yRS_test,yRA_test,yW_test,model_RS,model_RA,model_W):\n",
    "    print(\"RS (R^2): \",model_RS.score(xRS_test,yRS_test.ravel()))\n",
    "    print(\"\\nRA (R^2): \",model_RA.score(xRA_test,yRA_test.ravel()))\n",
    "    print(\"\\nW (R^2): \",model_W.score(xW_test,yW_test.ravel()))\n",
    "def model_cv(xRS,xRA,xW,yRS,yRA,yW,model_RS,model_RA,model_W):\n",
    "    print(\"RS Cross Validation Score:\\n\",cross_val_score(model_RS,xRS,yRS.ravel(),cv=6))\n",
    "    print(\"\\nRA Cross Validation Score:\\n\",cross_val_score(model_RA,xRA,yRA.ravel(),cv=6))\n",
    "    print(\"\\nW Cross Validation Score:\\n\",cross_val_score(model_W,xW,yW.ravel(),cv=6))"
   ]
  },
  {
   "cell_type": "code",
   "execution_count": 1653,
   "metadata": {},
   "outputs": [
    {
     "name": "stdout",
     "output_type": "stream",
     "text": [
      "RS (R^2):  0.8397127270580922\n",
      "\n",
      "RA (R^2):  0.976314720747962\n",
      "\n",
      "W (R^2):  0.837944357838468\n"
     ]
    }
   ],
   "source": [
    "# evaluate SVR model performance\n",
    "model_perform(XRS_sc_test,XRA_sc_test,XW_sc_test,yRS_sc_test,yRA_sc_test,yW_sc_test,svr_RS,svr_RA,svr_W)"
   ]
  },
  {
   "cell_type": "code",
   "execution_count": 1654,
   "metadata": {},
   "outputs": [
    {
     "name": "stdout",
     "output_type": "stream",
     "text": [
      "RS Cross Validation Score:\n",
      " [0.82971004 0.83374269 0.85535117 0.87809261 0.88156946 0.86045847]\n",
      "\n",
      "RA Cross Validation Score:\n",
      " [0.89247263 0.99641691 0.99610701 0.99504152 0.99610061 0.9953595 ]\n",
      "\n",
      "W Cross Validation Score:\n",
      " [0.85989281 0.85618749 0.81950154 0.85619276 0.82413445 0.85179183]\n"
     ]
    }
   ],
   "source": [
    "# evaluate SVR model performance using cross validation\n",
    "model_cv(sc_RSX,sc_RAX,sc_WX,sc_RSy,sc_RAy,sc_Wy,svr_RS,svr_RA,svr_W)"
   ]
  },
  {
   "cell_type": "code",
   "execution_count": 1655,
   "metadata": {},
   "outputs": [],
   "source": [
    "svr_RS_pred = RSysc.inverse_transform(svr_RS.predict(XRS_sc_test))\n",
    "svr_RA_pred = RAysc.inverse_transform(svr_RA.predict(XRA_sc_test))\n",
    "svr_W_pred = Wysc.inverse_transform(svr_W.predict(XW_sc_test))"
   ]
  },
  {
   "cell_type": "code",
   "execution_count": 1656,
   "metadata": {},
   "outputs": [
    {
     "data": {
      "text/html": [
       "<div>\n",
       "<style scoped>\n",
       "    .dataframe tbody tr th:only-of-type {\n",
       "        vertical-align: middle;\n",
       "    }\n",
       "\n",
       "    .dataframe tbody tr th {\n",
       "        vertical-align: top;\n",
       "    }\n",
       "\n",
       "    .dataframe thead th {\n",
       "        text-align: right;\n",
       "    }\n",
       "</style>\n",
       "<table border=\"1\" class=\"dataframe\">\n",
       "  <thead>\n",
       "    <tr style=\"text-align: right;\">\n",
       "      <th></th>\n",
       "      <th>SVR_Pred_RS</th>\n",
       "      <th>SVR_RS</th>\n",
       "    </tr>\n",
       "  </thead>\n",
       "  <tbody>\n",
       "    <tr>\n",
       "      <th>0</th>\n",
       "      <td>678.905891</td>\n",
       "      <td>702.0</td>\n",
       "    </tr>\n",
       "    <tr>\n",
       "      <th>1</th>\n",
       "      <td>614.547195</td>\n",
       "      <td>567.0</td>\n",
       "    </tr>\n",
       "    <tr>\n",
       "      <th>2</th>\n",
       "      <td>629.945497</td>\n",
       "      <td>651.0</td>\n",
       "    </tr>\n",
       "    <tr>\n",
       "      <th>3</th>\n",
       "      <td>735.124026</td>\n",
       "      <td>734.0</td>\n",
       "    </tr>\n",
       "    <tr>\n",
       "      <th>4</th>\n",
       "      <td>762.699136</td>\n",
       "      <td>741.0</td>\n",
       "    </tr>\n",
       "  </tbody>\n",
       "</table>\n",
       "</div>"
      ],
      "text/plain": [
       "   SVR_Pred_RS  SVR_RS\n",
       "0   678.905891   702.0\n",
       "1   614.547195   567.0\n",
       "2   629.945497   651.0\n",
       "3   735.124026   734.0\n",
       "4   762.699136   741.0"
      ]
     },
     "execution_count": 1656,
     "metadata": {},
     "output_type": "execute_result"
    }
   ],
   "source": [
    "# prediction comparisons\n",
    "# RS \n",
    "svr_RS_comp = pd.DataFrame({'SVR_RS':RSysc.inverse_transform(yRS_sc_test).ravel(),'SVR_Pred_RS':svr_RS_pred})\n",
    "svr_RS_comp.head(5)"
   ]
  },
  {
   "cell_type": "code",
   "execution_count": 1657,
   "metadata": {},
   "outputs": [
    {
     "data": {
      "text/html": [
       "<div>\n",
       "<style scoped>\n",
       "    .dataframe tbody tr th:only-of-type {\n",
       "        vertical-align: middle;\n",
       "    }\n",
       "\n",
       "    .dataframe tbody tr th {\n",
       "        vertical-align: top;\n",
       "    }\n",
       "\n",
       "    .dataframe thead th {\n",
       "        text-align: right;\n",
       "    }\n",
       "</style>\n",
       "<table border=\"1\" class=\"dataframe\">\n",
       "  <thead>\n",
       "    <tr style=\"text-align: right;\">\n",
       "      <th></th>\n",
       "      <th>SVR_Pred_RA</th>\n",
       "      <th>SVR_RA</th>\n",
       "    </tr>\n",
       "  </thead>\n",
       "  <tbody>\n",
       "    <tr>\n",
       "      <th>0</th>\n",
       "      <td>678.837140</td>\n",
       "      <td>674.0</td>\n",
       "    </tr>\n",
       "    <tr>\n",
       "      <th>1</th>\n",
       "      <td>554.036707</td>\n",
       "      <td>550.0</td>\n",
       "    </tr>\n",
       "    <tr>\n",
       "      <th>2</th>\n",
       "      <td>661.253792</td>\n",
       "      <td>657.0</td>\n",
       "    </tr>\n",
       "    <tr>\n",
       "      <th>3</th>\n",
       "      <td>646.218157</td>\n",
       "      <td>640.0</td>\n",
       "    </tr>\n",
       "    <tr>\n",
       "      <th>4</th>\n",
       "      <td>698.430406</td>\n",
       "      <td>697.0</td>\n",
       "    </tr>\n",
       "  </tbody>\n",
       "</table>\n",
       "</div>"
      ],
      "text/plain": [
       "   SVR_Pred_RA  SVR_RA\n",
       "0   678.837140   674.0\n",
       "1   554.036707   550.0\n",
       "2   661.253792   657.0\n",
       "3   646.218157   640.0\n",
       "4   698.430406   697.0"
      ]
     },
     "execution_count": 1657,
     "metadata": {},
     "output_type": "execute_result"
    }
   ],
   "source": [
    "# RA \n",
    "svr_RA_comp = pd.DataFrame({\"SVR_RA\":RAysc.inverse_transform(yRA_sc_test).ravel(),\"SVR_Pred_RA\":svr_RA_pred})\n",
    "svr_RA_comp.head(5)"
   ]
  },
  {
   "cell_type": "code",
   "execution_count": 1658,
   "metadata": {},
   "outputs": [
    {
     "data": {
      "text/html": [
       "<div>\n",
       "<style scoped>\n",
       "    .dataframe tbody tr th:only-of-type {\n",
       "        vertical-align: middle;\n",
       "    }\n",
       "\n",
       "    .dataframe tbody tr th {\n",
       "        vertical-align: top;\n",
       "    }\n",
       "\n",
       "    .dataframe thead th {\n",
       "        text-align: right;\n",
       "    }\n",
       "</style>\n",
       "<table border=\"1\" class=\"dataframe\">\n",
       "  <thead>\n",
       "    <tr style=\"text-align: right;\">\n",
       "      <th></th>\n",
       "      <th>SVR_Pred_W</th>\n",
       "      <th>SVR_W</th>\n",
       "    </tr>\n",
       "  </thead>\n",
       "  <tbody>\n",
       "    <tr>\n",
       "      <th>0</th>\n",
       "      <td>79.659100</td>\n",
       "      <td>85.0</td>\n",
       "    </tr>\n",
       "    <tr>\n",
       "      <th>1</th>\n",
       "      <td>71.458322</td>\n",
       "      <td>71.0</td>\n",
       "    </tr>\n",
       "    <tr>\n",
       "      <th>2</th>\n",
       "      <td>88.318895</td>\n",
       "      <td>85.0</td>\n",
       "    </tr>\n",
       "    <tr>\n",
       "      <th>3</th>\n",
       "      <td>80.779620</td>\n",
       "      <td>75.0</td>\n",
       "    </tr>\n",
       "    <tr>\n",
       "      <th>4</th>\n",
       "      <td>90.818443</td>\n",
       "      <td>95.0</td>\n",
       "    </tr>\n",
       "  </tbody>\n",
       "</table>\n",
       "</div>"
      ],
      "text/plain": [
       "   SVR_Pred_W  SVR_W\n",
       "0   79.659100   85.0\n",
       "1   71.458322   71.0\n",
       "2   88.318895   85.0\n",
       "3   80.779620   75.0\n",
       "4   90.818443   95.0"
      ]
     },
     "execution_count": 1658,
     "metadata": {},
     "output_type": "execute_result"
    }
   ],
   "source": [
    "# W\n",
    "svr_W_comp = pd.DataFrame({\"SVR_W\":Wysc.inverse_transform(yW_sc_test).ravel(),\"SVR_Pred_W\":svr_W_pred})\n",
    "svr_W_comp.head(5)"
   ]
  },
  {
   "cell_type": "markdown",
   "metadata": {},
   "source": [
    "### Random Forest (100 tree)"
   ]
  },
  {
   "cell_type": "code",
   "execution_count": 1659,
   "metadata": {},
   "outputs": [
    {
     "data": {
      "text/plain": [
       "RandomForestRegressor(bootstrap=True, criterion='mse', max_depth=None,\n",
       "           max_features='auto', max_leaf_nodes=None,\n",
       "           min_impurity_decrease=0.0, min_impurity_split=None,\n",
       "           min_samples_leaf=1, min_samples_split=2,\n",
       "           min_weight_fraction_leaf=0.0, n_estimators=100, n_jobs=1,\n",
       "           oob_score=False, random_state=None, verbose=0, warm_start=False)"
      ]
     },
     "execution_count": 1659,
     "metadata": {},
     "output_type": "execute_result"
    }
   ],
   "source": [
    "from sklearn.ensemble import RandomForestRegressor\n",
    "\n",
    "# RS\n",
    "rf_regr_RS = RandomForestRegressor(n_estimators=100)\n",
    "rf_regr_RS.fit(XRS_train,yRS_train)"
   ]
  },
  {
   "cell_type": "code",
   "execution_count": 1660,
   "metadata": {},
   "outputs": [
    {
     "data": {
      "text/plain": [
       "RandomForestRegressor(bootstrap=True, criterion='mse', max_depth=None,\n",
       "           max_features='auto', max_leaf_nodes=None,\n",
       "           min_impurity_decrease=0.0, min_impurity_split=None,\n",
       "           min_samples_leaf=1, min_samples_split=2,\n",
       "           min_weight_fraction_leaf=0.0, n_estimators=100, n_jobs=1,\n",
       "           oob_score=False, random_state=None, verbose=0, warm_start=False)"
      ]
     },
     "execution_count": 1660,
     "metadata": {},
     "output_type": "execute_result"
    }
   ],
   "source": [
    "# RA\n",
    "rf_regr_RA = RandomForestRegressor(n_estimators=100)\n",
    "rf_regr_RA.fit(XRA_train,yRA_train)"
   ]
  },
  {
   "cell_type": "code",
   "execution_count": 1661,
   "metadata": {},
   "outputs": [
    {
     "data": {
      "text/plain": [
       "RandomForestRegressor(bootstrap=True, criterion='mse', max_depth=None,\n",
       "           max_features='auto', max_leaf_nodes=None,\n",
       "           min_impurity_decrease=0.0, min_impurity_split=None,\n",
       "           min_samples_leaf=1, min_samples_split=2,\n",
       "           min_weight_fraction_leaf=0.0, n_estimators=100, n_jobs=1,\n",
       "           oob_score=False, random_state=None, verbose=0, warm_start=False)"
      ]
     },
     "execution_count": 1661,
     "metadata": {},
     "output_type": "execute_result"
    }
   ],
   "source": [
    "# W\n",
    "rf_regr_W = RandomForestRegressor(n_estimators=100)\n",
    "rf_regr_W.fit(XW_train,yW_train)"
   ]
  },
  {
   "cell_type": "code",
   "execution_count": 1662,
   "metadata": {},
   "outputs": [
    {
     "name": "stdout",
     "output_type": "stream",
     "text": [
      "RS (R^2):  0.8431810278106622\n",
      "\n",
      "RA (R^2):  0.9895718771565736\n",
      "\n",
      "W (R^2):  0.82921167992127\n"
     ]
    }
   ],
   "source": [
    "# evaluate model performance\n",
    "model_perform(XRS_test,XRA_test,XW_test,yRS_test,yRA_test,yW_test,rf_regr_RS,rf_regr_RA,rf_regr_W)"
   ]
  },
  {
   "cell_type": "code",
   "execution_count": 1663,
   "metadata": {},
   "outputs": [
    {
     "name": "stdout",
     "output_type": "stream",
     "text": [
      "RS Cross Validation Score:\n",
      " [0.79894595 0.79629029 0.79882694 0.86488409 0.81711193 0.82388258]\n",
      "\n",
      "RA Cross Validation Score:\n",
      " [0.86448767 0.99813484 0.99497236 0.99617672 0.99668078 0.99846399]\n",
      "\n",
      "W Cross Validation Score:\n",
      " [0.80797887 0.80261739 0.77686312 0.83172823 0.75581822 0.77800606]\n"
     ]
    }
   ],
   "source": [
    "# evaluate model performance via cross validation\n",
    "model_cv(X_RS,X_RA,X_W,y_RS,y_RA,y_W,rf_regr_RS,rf_regr_RA,rf_regr_W)"
   ]
  },
  {
   "cell_type": "code",
   "execution_count": 1664,
   "metadata": {},
   "outputs": [],
   "source": [
    "# making predictions\n",
    "rf_RS_pred = rf_regr_RS.predict(XRS_test)\n",
    "rf_RA_pred = rf_regr_RA.predict(XRA_test)\n",
    "rf_W_pred = rf_regr_W.predict(XW_test)"
   ]
  },
  {
   "cell_type": "code",
   "execution_count": 1665,
   "metadata": {},
   "outputs": [
    {
     "data": {
      "text/html": [
       "<div>\n",
       "<style scoped>\n",
       "    .dataframe tbody tr th:only-of-type {\n",
       "        vertical-align: middle;\n",
       "    }\n",
       "\n",
       "    .dataframe tbody tr th {\n",
       "        vertical-align: top;\n",
       "    }\n",
       "\n",
       "    .dataframe thead th {\n",
       "        text-align: right;\n",
       "    }\n",
       "</style>\n",
       "<table border=\"1\" class=\"dataframe\">\n",
       "  <thead>\n",
       "    <tr style=\"text-align: right;\">\n",
       "      <th></th>\n",
       "      <th>RF_Pred_RS</th>\n",
       "      <th>RF_RS</th>\n",
       "    </tr>\n",
       "  </thead>\n",
       "  <tbody>\n",
       "    <tr>\n",
       "      <th>597</th>\n",
       "      <td>676.032000</td>\n",
       "      <td>728</td>\n",
       "    </tr>\n",
       "    <tr>\n",
       "      <th>675</th>\n",
       "      <td>637.385000</td>\n",
       "      <td>635</td>\n",
       "    </tr>\n",
       "    <tr>\n",
       "      <th>687</th>\n",
       "      <td>704.655000</td>\n",
       "      <td>798</td>\n",
       "    </tr>\n",
       "    <tr>\n",
       "      <th>977</th>\n",
       "      <td>738.794333</td>\n",
       "      <td>684</td>\n",
       "    </tr>\n",
       "    <tr>\n",
       "      <th>1082</th>\n",
       "      <td>632.140000</td>\n",
       "      <td>632</td>\n",
       "    </tr>\n",
       "  </tbody>\n",
       "</table>\n",
       "</div>"
      ],
      "text/plain": [
       "      RF_Pred_RS  RF_RS\n",
       "597   676.032000    728\n",
       "675   637.385000    635\n",
       "687   704.655000    798\n",
       "977   738.794333    684\n",
       "1082  632.140000    632"
      ]
     },
     "execution_count": 1665,
     "metadata": {},
     "output_type": "execute_result"
    }
   ],
   "source": [
    "# RS\n",
    "rf_RS_comp = pd.DataFrame({\"RF_RS\":yRS_test,\"RF_Pred_RS\":rf_RS_pred})\n",
    "rf_RS_comp.head(5)"
   ]
  },
  {
   "cell_type": "code",
   "execution_count": 1666,
   "metadata": {},
   "outputs": [
    {
     "data": {
      "text/html": [
       "<div>\n",
       "<style scoped>\n",
       "    .dataframe tbody tr th:only-of-type {\n",
       "        vertical-align: middle;\n",
       "    }\n",
       "\n",
       "    .dataframe tbody tr th {\n",
       "        vertical-align: top;\n",
       "    }\n",
       "\n",
       "    .dataframe thead th {\n",
       "        text-align: right;\n",
       "    }\n",
       "</style>\n",
       "<table border=\"1\" class=\"dataframe\">\n",
       "  <thead>\n",
       "    <tr style=\"text-align: right;\">\n",
       "      <th></th>\n",
       "      <th>RF_Pred_RA</th>\n",
       "      <th>RF_RA</th>\n",
       "    </tr>\n",
       "  </thead>\n",
       "  <tbody>\n",
       "    <tr>\n",
       "      <th>905</th>\n",
       "      <td>743.650</td>\n",
       "      <td>739</td>\n",
       "    </tr>\n",
       "    <tr>\n",
       "      <th>1197</th>\n",
       "      <td>701.780</td>\n",
       "      <td>702</td>\n",
       "    </tr>\n",
       "    <tr>\n",
       "      <th>656</th>\n",
       "      <td>733.040</td>\n",
       "      <td>734</td>\n",
       "    </tr>\n",
       "    <tr>\n",
       "      <th>1044</th>\n",
       "      <td>780.165</td>\n",
       "      <td>772</td>\n",
       "    </tr>\n",
       "    <tr>\n",
       "      <th>859</th>\n",
       "      <td>728.680</td>\n",
       "      <td>725</td>\n",
       "    </tr>\n",
       "  </tbody>\n",
       "</table>\n",
       "</div>"
      ],
      "text/plain": [
       "      RF_Pred_RA  RF_RA\n",
       "905      743.650    739\n",
       "1197     701.780    702\n",
       "656      733.040    734\n",
       "1044     780.165    772\n",
       "859      728.680    725"
      ]
     },
     "execution_count": 1666,
     "metadata": {},
     "output_type": "execute_result"
    }
   ],
   "source": [
    "# RA\n",
    "rf_RA_comp = pd.DataFrame({\"RF_RA\":yRA_test,\"RF_Pred_RA\":rf_RA_pred})\n",
    "rf_RA_comp.head(5)"
   ]
  },
  {
   "cell_type": "code",
   "execution_count": 1667,
   "metadata": {},
   "outputs": [
    {
     "data": {
      "text/html": [
       "<div>\n",
       "<style scoped>\n",
       "    .dataframe tbody tr th:only-of-type {\n",
       "        vertical-align: middle;\n",
       "    }\n",
       "\n",
       "    .dataframe tbody tr th {\n",
       "        vertical-align: top;\n",
       "    }\n",
       "\n",
       "    .dataframe thead th {\n",
       "        text-align: right;\n",
       "    }\n",
       "</style>\n",
       "<table border=\"1\" class=\"dataframe\">\n",
       "  <thead>\n",
       "    <tr style=\"text-align: right;\">\n",
       "      <th></th>\n",
       "      <th>RF_Pred_W</th>\n",
       "      <th>RF_W</th>\n",
       "    </tr>\n",
       "  </thead>\n",
       "  <tbody>\n",
       "    <tr>\n",
       "      <th>966</th>\n",
       "      <td>85.950667</td>\n",
       "      <td>86</td>\n",
       "    </tr>\n",
       "    <tr>\n",
       "      <th>857</th>\n",
       "      <td>84.445238</td>\n",
       "      <td>79</td>\n",
       "    </tr>\n",
       "    <tr>\n",
       "      <th>494</th>\n",
       "      <td>86.778667</td>\n",
       "      <td>88</td>\n",
       "    </tr>\n",
       "    <tr>\n",
       "      <th>551</th>\n",
       "      <td>86.778667</td>\n",
       "      <td>96</td>\n",
       "    </tr>\n",
       "    <tr>\n",
       "      <th>1038</th>\n",
       "      <td>68.476000</td>\n",
       "      <td>67</td>\n",
       "    </tr>\n",
       "  </tbody>\n",
       "</table>\n",
       "</div>"
      ],
      "text/plain": [
       "      RF_Pred_W  RF_W\n",
       "966   85.950667    86\n",
       "857   84.445238    79\n",
       "494   86.778667    88\n",
       "551   86.778667    96\n",
       "1038  68.476000    67"
      ]
     },
     "execution_count": 1667,
     "metadata": {},
     "output_type": "execute_result"
    }
   ],
   "source": [
    "# W\n",
    "rf_W_comp = pd.DataFrame({\"RF_W\":yW_test,\"RF_Pred_W\":rf_W_pred})\n",
    "rf_W_comp.head(5)"
   ]
  },
  {
   "cell_type": "code",
   "execution_count": 1668,
   "metadata": {},
   "outputs": [
    {
     "data": {
      "text/plain": [
       "'OBP'"
      ]
     },
     "execution_count": 1668,
     "metadata": {},
     "output_type": "execute_result"
    }
   ],
   "source": [
    "X_RS.columns[0]"
   ]
  },
  {
   "cell_type": "markdown",
   "metadata": {},
   "source": [
    "### Boosting Model (XGboost)"
   ]
  },
  {
   "cell_type": "code",
   "execution_count": 1669,
   "metadata": {},
   "outputs": [],
   "source": [
    "from xgboost import XGBRegressor as xgbr\n",
    "X_RS = pre_2002[[\"OBP\",\"SLG\",\"BA\"]]\n",
    "y_RS = pre_2002[\"RS\"]\n",
    "def convert_features(list_features):\n",
    "    df = pre_2002[list_features]\n",
    "    \n",
    "    if len(list_features) >= 2:\n",
    "        df = df.rename(columns={df.columns[0]:\"f0\",df.columns[1]:\"f1\"})\n",
    "        return df[[\"f0\",\"f1\"]]\n",
    "    else:\n",
    "        df = df.rename(columns={df.columns[0]:\"f0\"})\n",
    "        return df[[\"f0\"]]"
   ]
  },
  {
   "cell_type": "code",
   "execution_count": 1670,
   "metadata": {},
   "outputs": [],
   "source": [
    "# convert feature column titles for XGBoost\n",
    "\n",
    "# RS \n",
    "X1_RS = convert_features([\"OBP\",\"SLG\"])\n",
    "\n",
    "# RA\n",
    "X1_RA = convert_features([\"OOBP\",\"OSLG\"])\n",
    "\n",
    "# W\n",
    "X1_W = convert_features([\"RD\"])"
   ]
  },
  {
   "cell_type": "code",
   "execution_count": 1671,
   "metadata": {},
   "outputs": [],
   "source": [
    "# create train & test data\n",
    "\n",
    "# RS\n",
    "XG_RSx_train,XG_RSx_test,XG_RSy_train,XG_RSy_test = train_test_split(X1_RS,y_RS,test_size=0.25)\n",
    "\n",
    "# RA\n",
    "XG_RAx_train,XG_RAx_test,XG_RAy_train,XG_RAy_test = train_test_split(X1_RA,y_RA,test_size=0.25)\n",
    "\n",
    "# W\n",
    "XG_Wx_train,XG_Wx_test,XG_Wy_train,XG_Wy_test = train_test_split(X1_W,y_W,test_size=0.25)"
   ]
  },
  {
   "cell_type": "code",
   "execution_count": 1672,
   "metadata": {},
   "outputs": [
    {
     "data": {
      "text/plain": [
       "XGBRegressor(base_score=0.5, colsample_bylevel=1, colsample_bytree=1, gamma=0,\n",
       "       learning_rate=0.1, max_delta_step=0, max_depth=3,\n",
       "       min_child_weight=1, missing=None, n_estimators=100, nthread=-1,\n",
       "       objective='reg:linear', reg_alpha=0, reg_lambda=1,\n",
       "       scale_pos_weight=1, seed=0, silent=True, subsample=1)"
      ]
     },
     "execution_count": 1672,
     "metadata": {},
     "output_type": "execute_result"
    }
   ],
   "source": [
    "# fit XGBoost model to data\n",
    "\n",
    "# RS\n",
    "xg_RS = xgbr()\n",
    "xg_RS.fit(XG_RSx_train.values,XG_RSy_train.values.ravel())\n",
    "# RA\n",
    "xg_RA = xgbr()\n",
    "xg_RA.fit(XG_RAx_train.values,XG_RAy_train.values.ravel())\n",
    "# W\n",
    "xg_W = xgbr()\n",
    "xg_W.fit(XG_Wx_train.values,XG_Wy_train.values.ravel())"
   ]
  },
  {
   "cell_type": "code",
   "execution_count": 1673,
   "metadata": {},
   "outputs": [
    {
     "name": "stdout",
     "output_type": "stream",
     "text": [
      "RS (R^2):  0.88466327452219\n",
      "\n",
      "RA (R^2):  0.9781085513605052\n",
      "\n",
      "W (R^2):  0.8607424805971111\n"
     ]
    }
   ],
   "source": [
    "# evaluate model performance\n",
    "model_perform(XG_RSx_test,XG_RAx_test,XG_Wx_test,XG_RSy_test,XG_RAy_test,XG_Wy_test,xg_RS,xg_RA,xg_W)"
   ]
  },
  {
   "cell_type": "code",
   "execution_count": 1674,
   "metadata": {},
   "outputs": [
    {
     "name": "stdout",
     "output_type": "stream",
     "text": [
      "RS Cross Validation Score:\n",
      " [0.83186891 0.82081796 0.83010867 0.86828679 0.85818314 0.85761067]\n",
      "\n",
      "RA Cross Validation Score:\n",
      " [0.86360891 0.99649784 0.99576192 0.99324526 0.99672688 0.99685829]\n",
      "\n",
      "W Cross Validation Score:\n",
      " [0.84755502 0.84883454 0.81131319 0.8553547  0.81585562 0.83998291]\n"
     ]
    }
   ],
   "source": [
    "# evaluate XGBoost model performance using cross validation\n",
    "model_cv(X_RS,X_RA,X_W,y_RS,y_RA,y_W,xg_RS,xg_RA,xg_W)"
   ]
  },
  {
   "cell_type": "code",
   "execution_count": 1675,
   "metadata": {},
   "outputs": [],
   "source": [
    "# make predictions\n",
    "xg_RS_pred = xg_RS.predict(XG_RSx_test)\n",
    "xg_RA_pred = xg_RA.predict(XG_RAx_test)\n",
    "xg_W_pred = xg_W.predict(XG_Wx_test)"
   ]
  },
  {
   "cell_type": "code",
   "execution_count": 1676,
   "metadata": {},
   "outputs": [
    {
     "data": {
      "text/html": [
       "<div>\n",
       "<style scoped>\n",
       "    .dataframe tbody tr th:only-of-type {\n",
       "        vertical-align: middle;\n",
       "    }\n",
       "\n",
       "    .dataframe tbody tr th {\n",
       "        vertical-align: top;\n",
       "    }\n",
       "\n",
       "    .dataframe thead th {\n",
       "        text-align: right;\n",
       "    }\n",
       "</style>\n",
       "<table border=\"1\" class=\"dataframe\">\n",
       "  <thead>\n",
       "    <tr style=\"text-align: right;\">\n",
       "      <th></th>\n",
       "      <th>xg_Pred_RS</th>\n",
       "      <th>xg_RS</th>\n",
       "    </tr>\n",
       "  </thead>\n",
       "  <tbody>\n",
       "    <tr>\n",
       "      <th>757</th>\n",
       "      <td>656.822021</td>\n",
       "      <td>652</td>\n",
       "    </tr>\n",
       "    <tr>\n",
       "      <th>1170</th>\n",
       "      <td>643.891541</td>\n",
       "      <td>707</td>\n",
       "    </tr>\n",
       "    <tr>\n",
       "      <th>1073</th>\n",
       "      <td>631.824890</td>\n",
       "      <td>625</td>\n",
       "    </tr>\n",
       "    <tr>\n",
       "      <th>1060</th>\n",
       "      <td>658.004944</td>\n",
       "      <td>680</td>\n",
       "    </tr>\n",
       "    <tr>\n",
       "      <th>958</th>\n",
       "      <td>734.122009</td>\n",
       "      <td>710</td>\n",
       "    </tr>\n",
       "  </tbody>\n",
       "</table>\n",
       "</div>"
      ],
      "text/plain": [
       "      xg_Pred_RS  xg_RS\n",
       "757   656.822021    652\n",
       "1170  643.891541    707\n",
       "1073  631.824890    625\n",
       "1060  658.004944    680\n",
       "958   734.122009    710"
      ]
     },
     "execution_count": 1676,
     "metadata": {},
     "output_type": "execute_result"
    }
   ],
   "source": [
    "# RS\n",
    "xg_RS_comp = pd.DataFrame({\"xg_RS\":XG_RSy_test,\"xg_Pred_RS\":xg_RS_pred})\n",
    "xg_RS_comp.head(5)"
   ]
  },
  {
   "cell_type": "code",
   "execution_count": 1677,
   "metadata": {},
   "outputs": [
    {
     "data": {
      "text/html": [
       "<div>\n",
       "<style scoped>\n",
       "    .dataframe tbody tr th:only-of-type {\n",
       "        vertical-align: middle;\n",
       "    }\n",
       "\n",
       "    .dataframe tbody tr th {\n",
       "        vertical-align: top;\n",
       "    }\n",
       "\n",
       "    .dataframe thead th {\n",
       "        text-align: right;\n",
       "    }\n",
       "</style>\n",
       "<table border=\"1\" class=\"dataframe\">\n",
       "  <thead>\n",
       "    <tr style=\"text-align: right;\">\n",
       "      <th></th>\n",
       "      <th>xg_Pred_RA</th>\n",
       "      <th>xg_RA</th>\n",
       "    </tr>\n",
       "  </thead>\n",
       "  <tbody>\n",
       "    <tr>\n",
       "      <th>758</th>\n",
       "      <td>679.370239</td>\n",
       "      <td>679</td>\n",
       "    </tr>\n",
       "    <tr>\n",
       "      <th>936</th>\n",
       "      <td>657.111267</td>\n",
       "      <td>655</td>\n",
       "    </tr>\n",
       "    <tr>\n",
       "      <th>1200</th>\n",
       "      <td>704.271423</td>\n",
       "      <td>704</td>\n",
       "    </tr>\n",
       "    <tr>\n",
       "      <th>510</th>\n",
       "      <td>739.697327</td>\n",
       "      <td>739</td>\n",
       "    </tr>\n",
       "    <tr>\n",
       "      <th>332</th>\n",
       "      <td>638.668701</td>\n",
       "      <td>643</td>\n",
       "    </tr>\n",
       "  </tbody>\n",
       "</table>\n",
       "</div>"
      ],
      "text/plain": [
       "      xg_Pred_RA  xg_RA\n",
       "758   679.370239    679\n",
       "936   657.111267    655\n",
       "1200  704.271423    704\n",
       "510   739.697327    739\n",
       "332   638.668701    643"
      ]
     },
     "execution_count": 1677,
     "metadata": {},
     "output_type": "execute_result"
    }
   ],
   "source": [
    "# RA\n",
    "xg_RA_comp = pd.DataFrame({\"xg_RA\":XG_RAy_test,\"xg_Pred_RA\":xg_RA_pred})\n",
    "xg_RA_comp.head(5)"
   ]
  },
  {
   "cell_type": "code",
   "execution_count": 1678,
   "metadata": {},
   "outputs": [
    {
     "data": {
      "text/html": [
       "<div>\n",
       "<style scoped>\n",
       "    .dataframe tbody tr th:only-of-type {\n",
       "        vertical-align: middle;\n",
       "    }\n",
       "\n",
       "    .dataframe tbody tr th {\n",
       "        vertical-align: top;\n",
       "    }\n",
       "\n",
       "    .dataframe thead th {\n",
       "        text-align: right;\n",
       "    }\n",
       "</style>\n",
       "<table border=\"1\" class=\"dataframe\">\n",
       "  <thead>\n",
       "    <tr style=\"text-align: right;\">\n",
       "      <th></th>\n",
       "      <th>xg_Pred_W</th>\n",
       "      <th>xg_W</th>\n",
       "    </tr>\n",
       "  </thead>\n",
       "  <tbody>\n",
       "    <tr>\n",
       "      <th>993</th>\n",
       "      <td>70.979408</td>\n",
       "      <td>72</td>\n",
       "    </tr>\n",
       "    <tr>\n",
       "      <th>576</th>\n",
       "      <td>71.019691</td>\n",
       "      <td>71</td>\n",
       "    </tr>\n",
       "    <tr>\n",
       "      <th>711</th>\n",
       "      <td>67.028419</td>\n",
       "      <td>67</td>\n",
       "    </tr>\n",
       "    <tr>\n",
       "      <th>454</th>\n",
       "      <td>70.402626</td>\n",
       "      <td>68</td>\n",
       "    </tr>\n",
       "    <tr>\n",
       "      <th>692</th>\n",
       "      <td>91.711136</td>\n",
       "      <td>95</td>\n",
       "    </tr>\n",
       "  </tbody>\n",
       "</table>\n",
       "</div>"
      ],
      "text/plain": [
       "     xg_Pred_W  xg_W\n",
       "993  70.979408    72\n",
       "576  71.019691    71\n",
       "711  67.028419    67\n",
       "454  70.402626    68\n",
       "692  91.711136    95"
      ]
     },
     "execution_count": 1678,
     "metadata": {},
     "output_type": "execute_result"
    }
   ],
   "source": [
    "# W\n",
    "rf_W_comp = pd.DataFrame({\"xg_W\":XG_Wy_test,\"xg_Pred_W\":xg_W_pred})\n",
    "rf_W_comp.head(5)"
   ]
  },
  {
   "cell_type": "markdown",
   "metadata": {},
   "source": [
    "## Checking for Overfitting (RMSE)"
   ]
  },
  {
   "cell_type": "markdown",
   "metadata": {},
   "source": [
    "### Linear Regression"
   ]
  },
  {
   "cell_type": "code",
   "execution_count": 1679,
   "metadata": {},
   "outputs": [],
   "source": [
    "from sklearn import metrics\n",
    "\n",
    "def rmse_fit(xtrain,xtest,ytrain,ytest,model):\n",
    "    pred_train = model.predict(xtrain)\n",
    "    pred_test = model.predict(xtest)\n",
    "    rmse_train = np.sqrt(metrics.mean_squared_error(ytrain,pred_train))\n",
    "    rmse_test = np.sqrt(metrics.mean_squared_error(ytest,pred_test))\n",
    "    print(\"RMSE (train): \",rmse_train)\n",
    "    print(\"RMSE (test): \",rmse_test)\n",
    "\n",
    "def svr_rmse_fit(xtrain,xtest,ytrain,ytest,model,svr_sc_mod):\n",
    "    pred_train = svr_sc_mod.inverse_transform(model.predict(xtrain))\n",
    "    pred_test = svr_sc_mod.inverse_transform(model.predict(xtest))\n",
    "    rmse_train = np.sqrt(metrics.mean_squared_error(svr_sc_mod.inverse_transform(ytrain).ravel(),pred_train))\n",
    "    rmse_test = np.sqrt(metrics.mean_squared_error(svr_sc_mod.inverse_transform(ytest).ravel(),pred_test))\n",
    "    print(\"RMSE (train): \",rmse_train)\n",
    "    print(\"RMSE (test): \",rmse_test)"
   ]
  },
  {
   "cell_type": "code",
   "execution_count": 1680,
   "metadata": {},
   "outputs": [
    {
     "name": "stdout",
     "output_type": "stream",
     "text": [
      "RMSE (train):  24.43540019177694\n",
      "RMSE (test):  24.587191025166582\n"
     ]
    }
   ],
   "source": [
    "# RS\n",
    "rmse_fit(XRS_train,XRS_test,yRS_train,yRS_test,regr_RS)"
   ]
  },
  {
   "cell_type": "code",
   "execution_count": 1681,
   "metadata": {},
   "outputs": [],
   "source": [
    "# use K-fold cross validation to create train-test sets\n",
    "#from sklearn.cross_validation import KFold\n",
    "#kf = KFold(len(y_RS),2)\n",
    "#kf.get_n_splits(X_RS)\n",
    "\n",
    "#for train_indices, test_indices in kf:\n",
    "    #XRS_train2 = [X_RS[i] for i in train_indices]\n",
    "    #XRS_test2 = [X_RS[i] for i in test_indices]\n",
    "    #yRS_train2 = [y_RS[i] for i in train_indices]\n",
    "   #yRS_test2 = [y_RS[i] for i in test_indices]"
   ]
  },
  {
   "cell_type": "code",
   "execution_count": 1682,
   "metadata": {},
   "outputs": [],
   "source": [
    "# rmse_fit(XRS_train2,XRS_test2,yRS_train,yRS_test,regr_RS)"
   ]
  },
  {
   "cell_type": "code",
   "execution_count": 1683,
   "metadata": {},
   "outputs": [
    {
     "name": "stdout",
     "output_type": "stream",
     "text": [
      "RMSE (train):  8.838230483332858\n",
      "RMSE (test):  8.866032225418069\n"
     ]
    }
   ],
   "source": [
    "# RA\n",
    "rmse_fit(XRA_train,XRA_test,yRA_train,yRA_test,regr_RA)"
   ]
  },
  {
   "cell_type": "code",
   "execution_count": 1684,
   "metadata": {},
   "outputs": [
    {
     "name": "stdout",
     "output_type": "stream",
     "text": [
      "RMSE (train):  3.939469025852472\n",
      "RMSE (test):  3.857567843273761\n"
     ]
    }
   ],
   "source": [
    "# W\n",
    "rmse_fit(XW_train,XW_test,yW_train,yW_test,regr_W)"
   ]
  },
  {
   "cell_type": "markdown",
   "metadata": {},
   "source": [
    "### SVR"
   ]
  },
  {
   "cell_type": "code",
   "execution_count": 1685,
   "metadata": {},
   "outputs": [
    {
     "name": "stdout",
     "output_type": "stream",
     "text": [
      "RMSE (train):  23.92105962683614\n",
      "RMSE (test):  24.889267062435234\n"
     ]
    }
   ],
   "source": [
    "# RS\n",
    "svr_rmse_fit(XRS_sc_train,XRS_sc_test,yRS_sc_train,yRS_sc_test,svr_RS,RSysc)"
   ]
  },
  {
   "cell_type": "code",
   "execution_count": 1686,
   "metadata": {},
   "outputs": [
    {
     "name": "stdout",
     "output_type": "stream",
     "text": [
      "RMSE (train):  7.761761423243637\n",
      "RMSE (test):  11.395229823502927\n"
     ]
    }
   ],
   "source": [
    "# RA\n",
    "svr_rmse_fit(XRA_sc_train,XRA_sc_test,yRA_sc_train,yRA_sc_test,svr_RA,RAysc)"
   ]
  },
  {
   "cell_type": "code",
   "execution_count": 1687,
   "metadata": {},
   "outputs": [
    {
     "name": "stdout",
     "output_type": "stream",
     "text": [
      "RMSE (train):  3.9047788363642426\n",
      "RMSE (test):  3.8587865582060368\n"
     ]
    }
   ],
   "source": [
    "# W\n",
    "svr_rmse_fit(XW_sc_train,XW_sc_test,yW_sc_train,yW_sc_test,svr_W,Wysc)"
   ]
  },
  {
   "cell_type": "markdown",
   "metadata": {},
   "source": [
    "### Random Forest"
   ]
  },
  {
   "cell_type": "code",
   "execution_count": 1688,
   "metadata": {},
   "outputs": [
    {
     "name": "stdout",
     "output_type": "stream",
     "text": [
      "RMSE (train):  12.306912603547161\n",
      "RMSE (test):  29.553744178470314\n"
     ]
    }
   ],
   "source": [
    "# RS\n",
    "rmse_fit(XRS_train,XRS_test,yRS_train,yRS_test,rf_regr_RS)"
   ]
  },
  {
   "cell_type": "code",
   "execution_count": 1689,
   "metadata": {},
   "outputs": [
    {
     "name": "stdout",
     "output_type": "stream",
     "text": [
      "RMSE (train):  3.655685150138176\n",
      "RMSE (test):  8.20259370505427\n"
     ]
    }
   ],
   "source": [
    "# RA\n",
    "rmse_fit(XRA_train,XRA_test,yRA_train,yRA_test,rf_regr_RA)"
   ]
  },
  {
   "cell_type": "code",
   "execution_count": 1690,
   "metadata": {},
   "outputs": [
    {
     "name": "stdout",
     "output_type": "stream",
     "text": [
      "RMSE (train):  3.036720305277634\n",
      "RMSE (test):  4.119381853727456\n"
     ]
    }
   ],
   "source": [
    "# W\n",
    "rmse_fit(XW_train,XW_test,yW_train,yW_test,rf_regr_W)"
   ]
  },
  {
   "cell_type": "markdown",
   "metadata": {},
   "source": [
    "### XGBoost"
   ]
  },
  {
   "cell_type": "code",
   "execution_count": 1691,
   "metadata": {},
   "outputs": [
    {
     "name": "stdout",
     "output_type": "stream",
     "text": [
      "RMSE (train):  21.384856294561864\n",
      "RMSE (test):  24.69969012453022\n"
     ]
    }
   ],
   "source": [
    "# RS\n",
    "rmse_fit(XG_RSx_train,XG_RSx_test,XG_RSy_train,XG_RSy_test,xg_RS)"
   ]
  },
  {
   "cell_type": "code",
   "execution_count": 1692,
   "metadata": {},
   "outputs": [
    {
     "name": "stdout",
     "output_type": "stream",
     "text": [
      "RMSE (train):  4.617543975850119\n",
      "RMSE (test):  11.077993142895753\n"
     ]
    }
   ],
   "source": [
    "# RA\n",
    "rmse_fit(XG_RAx_train,XG_RAx_test,XG_RAy_train,XG_RAy_test,xg_RA)"
   ]
  },
  {
   "cell_type": "code",
   "execution_count": 1693,
   "metadata": {},
   "outputs": [
    {
     "name": "stdout",
     "output_type": "stream",
     "text": [
      "RMSE (train):  3.545029565764378\n",
      "RMSE (test):  3.9220222629560912\n"
     ]
    }
   ],
   "source": [
    "# W\n",
    "rmse_fit(XG_Wx_train,XG_Wx_test,XG_Wy_train,XG_Wy_test,xg_W)"
   ]
  },
  {
   "cell_type": "markdown",
   "metadata": {},
   "source": [
    "## Tuning hyperparameters for SVR, RandomForest & XGBoost"
   ]
  },
  {
   "cell_type": "markdown",
   "metadata": {},
   "source": [
    "### I. RandomizedSearchCV"
   ]
  },
  {
   "cell_type": "markdown",
   "metadata": {},
   "source": [
    "### SVR"
   ]
  },
  {
   "cell_type": "code",
   "execution_count": 1694,
   "metadata": {},
   "outputs": [],
   "source": [
    "# from sklearn.model_selection import RandomizedSearchCV\n",
    "\n",
    "# # penalty parameter of the error term (C)\n",
    "# c_param = [int(x) for x in np.linspace(start=1,stop=1000,num=100)]\n",
    "# # kernel type to be used for SVR\n",
    "# kernel_param = [\"linear\",\"rbf\"]\n",
    "# # kernel coefficient (gamma)\n",
    "# gamma_param = [x for x in np.linspace(start=0.001,stop=1,num=100)]\n",
    "\n",
    "# # create random grid\n",
    "# svr_random_grid = {\n",
    "#     \"C\":c_param,\n",
    "#     \"kernel\":kernel_param,\n",
    "#     \"gamma\":gamma_param\n",
    "# }"
   ]
  },
  {
   "cell_type": "code",
   "execution_count": 1695,
   "metadata": {},
   "outputs": [],
   "source": [
    "# search for best hyperparameters using 10-fold cross validation \n",
    "\n",
    "# RS\n",
    "# svr_RS_random = RandomizedSearchCV(estimator=svr_RS,param_distributions=svr_random_grid,n_iter=60,cv=10,verbose=2,random_state=42,n_jobs=-1)\n",
    "# svr_RS_random.fit(XRS_sc_train,yRS_sc_train.ravel())"
   ]
  },
  {
   "cell_type": "code",
   "execution_count": 1696,
   "metadata": {},
   "outputs": [],
   "source": [
    "# svr_RS_random.best_params_"
   ]
  },
  {
   "cell_type": "code",
   "execution_count": 1697,
   "metadata": {},
   "outputs": [],
   "source": [
    "# RA\n",
    "# svr_RA_random = RandomizedSearchCV(estimator=svr_RA,param_distributions=svr_random_grid,n_iter=60,cv=10,verbose=2,random_state=42,n_jobs=-1)\n",
    "# svr_RA_random.fit(XRA_sc_train,yRA_sc_train.ravel())"
   ]
  },
  {
   "cell_type": "code",
   "execution_count": 1698,
   "metadata": {},
   "outputs": [],
   "source": [
    "# svr_RA_random.best_params_"
   ]
  },
  {
   "cell_type": "code",
   "execution_count": 1699,
   "metadata": {},
   "outputs": [],
   "source": [
    "# W\n",
    "# svr_W_random = RandomizedSearchCV(estimator=svr_W,param_distributions=svr_random_grid,n_iter=60,cv=10,verbose=2,random_state=42,n_jobs=-1)\n",
    "# svr_W_random.fit(XW_sc_train,yW_sc_train.ravel())"
   ]
  },
  {
   "cell_type": "code",
   "execution_count": 1700,
   "metadata": {},
   "outputs": [],
   "source": [
    "#svr_W_random.best_params_"
   ]
  },
  {
   "cell_type": "markdown",
   "metadata": {},
   "source": [
    "### Random Forest"
   ]
  },
  {
   "cell_type": "code",
   "execution_count": 1701,
   "metadata": {},
   "outputs": [],
   "source": [
    "# # number of trees\n",
    "# n_param = [int(x) for x in np.linspace(start=10,stop=1000,num=100)]\n",
    "# # criterion\n",
    "# #crit_param = [\"mse\",\"mae\"]\n",
    "# # number of features to consider at every split\n",
    "# max_features = [\"auto\",\"sqrt\"]\n",
    "# # max number of levels in tree\n",
    "# max_depth = [int(x) for x in np.linspace(10,110,num=100)]\n",
    "# max_depth.append(None)\n",
    "# # min number of samples required to split a node\n",
    "# min_samples_split = [2,5,10]\n",
    "# # min number of samples required at each leaf node\n",
    "# min_samples_leaf = [1,2,4]\n",
    "# # method of selecting samples for training each tree\n",
    "# bootstrap = [True,False]\n",
    "\n",
    "# # create the random grid\n",
    "# rf_random_grid = {\n",
    "#     'n_estimators':n_param,\n",
    "#     #'criterion': crit_param,\n",
    "#     'max_features': max_features,\n",
    "#     'max_depth': max_depth,\n",
    "#     'min_samples_split': min_samples_split,\n",
    "#     'min_samples_leaf': min_samples_leaf,\n",
    "#     'bootstrap' : bootstrap\n",
    "# }"
   ]
  },
  {
   "cell_type": "code",
   "execution_count": 1702,
   "metadata": {},
   "outputs": [],
   "source": [
    "# RS\n",
    "# rf_RS_random = RandomizedSearchCV(estimator=rf_regr_RS,param_distributions=rf_random_grid,n_iter=60,cv=10,verbose=2,random_state=42,n_jobs=-1)\n",
    "# rf_RS_random.fit(XRS_train,yRS_train)"
   ]
  },
  {
   "cell_type": "code",
   "execution_count": 1703,
   "metadata": {},
   "outputs": [],
   "source": [
    "# rf_RS_random.best_params_"
   ]
  },
  {
   "cell_type": "code",
   "execution_count": 1704,
   "metadata": {},
   "outputs": [],
   "source": [
    "# RA\n",
    "# rf_RA_random = RandomizedSearchCV(estimator=rf_regr_RA,param_distributions=rf_random_grid,n_iter=60,cv=10,verbose=2,random_state=42,n_jobs=-1)\n",
    "# rf_RA_random.fit(XRA_train,yRA_train)"
   ]
  },
  {
   "cell_type": "code",
   "execution_count": 1705,
   "metadata": {},
   "outputs": [],
   "source": [
    "# rf_RA_random.best_params_"
   ]
  },
  {
   "cell_type": "code",
   "execution_count": 1706,
   "metadata": {},
   "outputs": [],
   "source": [
    "# W\n",
    "# rf_W_random = RandomizedSearchCV(estimator=rf_regr_W,param_distributions=rf_random_grid,n_iter=60,cv=10,verbose=2,random_state=42,n_jobs=-1)\n",
    "# rf_W_random.fit(XW_train,yW_train)"
   ]
  },
  {
   "cell_type": "code",
   "execution_count": 1707,
   "metadata": {},
   "outputs": [],
   "source": [
    "# rf_W_random.best_params_"
   ]
  },
  {
   "cell_type": "markdown",
   "metadata": {},
   "source": [
    "### XGBoost"
   ]
  },
  {
   "cell_type": "code",
   "execution_count": 1708,
   "metadata": {},
   "outputs": [],
   "source": [
    "# # learning rate\n",
    "# learning_rate = [x for x in np.linspace(start=0.01,stop=1,num=100)]\n",
    "# # number of trees\n",
    "# n_estimators = [int(x) for x in np.linspace(start=10,stop=1000,num=100)]\n",
    "# # max number of levels in tree\n",
    "# max_depth = range(3,10,2)\n",
    "# # gamma\n",
    "# gamma_param = [x for x in np.linspace(start=0.001,stop=1,num=100)]\n",
    "# # min child weight\n",
    "# min_child_weight = range(1,6,2)\n",
    "# # subsample\n",
    "# #sub_sample = [(x/10) for x in range(6,10)]\n",
    "# # colsample by tree\n",
    "# #colsample_bytree = [(x/10) for x in range(6,10)]\n",
    "\n",
    "# # create the random grid\n",
    "# xg_random_grid = {\n",
    "#     'learning_rate':learning_rate,\n",
    "#     'n_estimators':n_estimators,\n",
    "#     'max_depth': max_depth,\n",
    "#     'min_child_weight':min_child_weight,\n",
    "#     #'sub_sample': sub_sample,\n",
    "#     #'colsample_bytree':colsample_bytree,\n",
    "#     #'scale_pos_weight' : scale_pos_weight\n",
    "# }"
   ]
  },
  {
   "cell_type": "code",
   "execution_count": 1709,
   "metadata": {},
   "outputs": [],
   "source": [
    "# RS\n",
    "# xg_RS_random = RandomizedSearchCV(estimator=xg_RS,param_distributions=xg_random_grid,n_iter=60,cv=10,verbose=2,random_state=42,n_jobs=-1)\n",
    "# xg_RS_random.fit(XG_RSx_train.values,XG_RSy_train.values.ravel())"
   ]
  },
  {
   "cell_type": "code",
   "execution_count": 1710,
   "metadata": {},
   "outputs": [],
   "source": [
    "# xg_RS_random.best_params_"
   ]
  },
  {
   "cell_type": "code",
   "execution_count": 1711,
   "metadata": {},
   "outputs": [],
   "source": [
    "# RA\n",
    "# xg_RA_random = RandomizedSearchCV(estimator=xg_RA,param_distributions=xg_random_grid,n_iter=60,cv=10,verbose=2,random_state=42,n_jobs=-1)\n",
    "# xg_RA_random.fit(XG_RAx_train.values,XG_RAy_train.values.ravel())"
   ]
  },
  {
   "cell_type": "code",
   "execution_count": 1712,
   "metadata": {},
   "outputs": [],
   "source": [
    "# xg_RA_random.best_params_"
   ]
  },
  {
   "cell_type": "code",
   "execution_count": 1713,
   "metadata": {},
   "outputs": [],
   "source": [
    "# W\n",
    "# xg_W_random = RandomizedSearchCV(estimator=xg_W,param_distributions=xg_random_grid,n_iter=60,cv=10,verbose=2,random_state=42,n_jobs=-1)\n",
    "# xg_W_random.fit(XG_Wx_train.values,XG_Wy_train.values.ravel())"
   ]
  },
  {
   "cell_type": "code",
   "execution_count": 1714,
   "metadata": {},
   "outputs": [],
   "source": [
    "# xg_W_random.best_params_"
   ]
  },
  {
   "cell_type": "markdown",
   "metadata": {},
   "source": [
    "### II. GridSearch"
   ]
  },
  {
   "cell_type": "markdown",
   "metadata": {},
   "source": [
    "### SVR"
   ]
  },
  {
   "cell_type": "code",
   "execution_count": 1715,
   "metadata": {},
   "outputs": [],
   "source": [
    "#from sklearn.model_selection import GridSearchCV\n",
    "\n",
    "# RS\n",
    "#svr_RS_grid = GridSearchCV(estimator=svr_RS,param_grid=svr_random_grid,cv=3,verbose=2,n_jobs=-1)\n",
    "#svr_RS_grid.fit(XRS_sc_train,yRS_sc_train.ravel())"
   ]
  },
  {
   "cell_type": "code",
   "execution_count": 1716,
   "metadata": {},
   "outputs": [],
   "source": [
    "#svr_RS_grid.best_params_"
   ]
  },
  {
   "cell_type": "code",
   "execution_count": 1717,
   "metadata": {},
   "outputs": [],
   "source": [
    "# RA\n",
    "#svr_RA_grid = GridSearchCV(estimator=svr_RA,param_grid=svr_random_grid,cv=3,verbose=2,n_jobs=-1)\n",
    "#svr_RA_grid.fit(XRA_sc_train,yRA_sc_train.ravel())"
   ]
  },
  {
   "cell_type": "code",
   "execution_count": 1718,
   "metadata": {},
   "outputs": [],
   "source": [
    "#svr_RA_grid.best_params_"
   ]
  },
  {
   "cell_type": "markdown",
   "metadata": {},
   "source": [
    "## Applying changes to models' hyperparameters"
   ]
  },
  {
   "cell_type": "code",
   "execution_count": 1719,
   "metadata": {},
   "outputs": [],
   "source": [
    "# # evaluate random search\n",
    "# def evaluate_svr(model,scale,test_features,test_labels):\n",
    "#     predictions = scale.inverse_transform(model.predict(test_features))\n",
    "#     errors = abs(predictions-(scale.inverse_transform(test_labels).ravel()))\n",
    "#     mape = 100*np.mean(errors/(scale.inverse_transform(test_labels).ravel()))\n",
    "#     accuracy = 100 - mape\n",
    "#     print(\"Model Performance\")\n",
    "#     print(\"Average Error: {:0.4f} degrees.\".format(np.mean(errors)))\n",
    "#     print(\"Accuracy = {:0.2f}%\".format(accuracy))\n",
    "#     print(mape)\n",
    "#     return accuracy\n",
    "\n",
    "# def evaluate(model,test_features,test_labels):\n",
    "#     predictions = model.predict(test_features)\n",
    "#     errors = abs(predictions-test_labels)\n",
    "#     mape = 100*np.mean(errors/test_labels)\n",
    "#     accuracy = 100 - mape\n",
    "#     print(\"Model Performance\")\n",
    "#     print(\"Average Error: {:0.4f} degrees.\".format(np.mean(errors)))\n",
    "#     print(\"Accuracy = {:0.2f}%\".format(accuracy))\n",
    "#     print(mape)\n",
    "#     return accuracy\n",
    "\n",
    "# def update_param_svr(param_dic,model_type):\n",
    "#     p = param_dic\n",
    "#     return model_type(C=p[\"C\"],gamma=p[\"gamma\"],kernel=p[\"kernel\"])\n",
    "\n",
    "# def update_param_rf(param_dic,model_type):\n",
    "#     p = param_dic\n",
    "#     return model_type(bootstrap=p[\"bootstrap\"],max_depth=p[\"max_depth\"],max_features=p[\"max_features\"],min_samples_leaf=p[\"min_samples_leaf\"],min_samples_split=p[\"min_samples_split\"],n_estimators=p[\"n_estimators\"])\n",
    "\n",
    "# def update_param_xg(param_dic,model_type):\n",
    "#     p = param_dic\n",
    "#     return model_type(learning_rate=p[\"learning_rate\"],max_depth=p[\"max_depth\"],min_child_weight=p[\"min_child_weight\"],n_estimators=p[\"n_estimators\"])\n"
   ]
  },
  {
   "cell_type": "markdown",
   "metadata": {},
   "source": [
    "### SVR"
   ]
  },
  {
   "cell_type": "code",
   "execution_count": 1720,
   "metadata": {},
   "outputs": [],
   "source": [
    "# # RS\n",
    "# svr_RS2 = update_param_svr(svr_RS_random.best_params_,SVR)\n",
    "# svr_RS2.fit(XRS_sc_train,yRS_sc_train.ravel())\n",
    "# # RA\n",
    "# svr_RA2 = update_param_svr(svr_RA_random.best_params_,SVR)\n",
    "# svr_RA2.fit(XRA_sc_train,yRA_sc_train.ravel())\n",
    "# # W\n",
    "# svr_W2 = update_param_svr(svr_W_random.best_params_,SVR)\n",
    "# svr_W2.fit(XW_sc_train,yW_sc_train.ravel())"
   ]
  },
  {
   "cell_type": "code",
   "execution_count": 1721,
   "metadata": {},
   "outputs": [],
   "source": [
    "# # RS \n",
    "# base_svr_RS = evaluate_svr(svr_RS,RSysc,XRS_sc_test,yRS_sc_test)\n",
    "# print(\"\")\n",
    "# enhan_svr_RS = evaluate_svr(svr_RS2,RSysc,XRS_sc_test,yRS_sc_test)"
   ]
  },
  {
   "cell_type": "code",
   "execution_count": 1722,
   "metadata": {},
   "outputs": [],
   "source": [
    "# print(\"Improvement of {:0.2f}%\".format(100*(enhan_svr_RS-base_svr_RS)/base_svr_RS))"
   ]
  },
  {
   "cell_type": "code",
   "execution_count": 1723,
   "metadata": {},
   "outputs": [],
   "source": [
    "# # RA\n",
    "# base_svr_RA = evaluate_svr(svr_RA,RAysc,XRA_sc_test,yRA_sc_test)\n",
    "# print(\"\")\n",
    "# enhan_svr_RA = evaluate_svr(svr_RA2,RAysc,XRA_sc_test,yRA_sc_test)"
   ]
  },
  {
   "cell_type": "code",
   "execution_count": 1724,
   "metadata": {},
   "outputs": [],
   "source": [
    "# print(\"Improvement of {:0.2f}%\".format(100*(enhan_svr_RA-base_svr_RA)/base_svr_RA))"
   ]
  },
  {
   "cell_type": "code",
   "execution_count": 1725,
   "metadata": {},
   "outputs": [],
   "source": [
    "# # W\n",
    "# base_svr_W = evaluate_svr(svr_W,Wysc,XW_sc_test,yW_sc_test)\n",
    "# print(\"\")\n",
    "# enhan_svr_W = evaluate_svr(svr_W2,Wysc,XW_sc_test,yW_sc_test)"
   ]
  },
  {
   "cell_type": "code",
   "execution_count": 1726,
   "metadata": {},
   "outputs": [],
   "source": [
    "# print(\"Improvement of {:0.2f}%\".format(100*(enhan_svr_W-base_svr_W)/base_svr_W))"
   ]
  },
  {
   "cell_type": "markdown",
   "metadata": {},
   "source": [
    "### Random Forest"
   ]
  },
  {
   "cell_type": "code",
   "execution_count": 1727,
   "metadata": {},
   "outputs": [],
   "source": [
    "# # RS\n",
    "# rf_regr_RS2 = update_param_rf(rf_RS_random.best_params_,RandomForestRegressor)\n",
    "# rf_regr_RS2.fit(XRS_train,yRS_train)\n",
    "\n",
    "# # RA\n",
    "# rf_regr_RA2 = update_param_rf(rf_RA_random.best_params_,RandomForestRegressor)\n",
    "# rf_regr_RA2.fit(XRA_train,yRA_train)\n",
    "\n",
    "# # W\n",
    "# rf_regr_W2 = update_param_rf(rf_W_random.best_params_,RandomForestRegressor)\n",
    "# rf_regr_W2.fit(XW_train,yW_train)"
   ]
  },
  {
   "cell_type": "code",
   "execution_count": 1728,
   "metadata": {},
   "outputs": [],
   "source": [
    "# # RS \n",
    "# base_rf_RS = evaluate(rf_regr_RS,XRS_test,yRS_test)\n",
    "# print(\"\")\n",
    "# enhan_rf_RS = evaluate(rf_regr_RS2,XRS_test,yRS_test)"
   ]
  },
  {
   "cell_type": "code",
   "execution_count": 1729,
   "metadata": {},
   "outputs": [],
   "source": [
    "# print(\"Improvement of {:0.2f}%\".format(100*(enhan_rf_RS-base_rf_RS)/base_rf_RS))"
   ]
  },
  {
   "cell_type": "code",
   "execution_count": 1730,
   "metadata": {},
   "outputs": [],
   "source": [
    "# # RA\n",
    "# base_rf_RA = evaluate(rf_regr_RA,XRA_test,yRA_test)\n",
    "# print(\"\")\n",
    "# enhan_rf_RA = evaluate(rf_regr_RA2,XRA_test,yRA_test)"
   ]
  },
  {
   "cell_type": "code",
   "execution_count": 1731,
   "metadata": {},
   "outputs": [],
   "source": [
    "# print(\"Improvement of {:0.2f}%\".format(100*(enhan_rf_RA-base_rf_RA)/base_rf_RA))"
   ]
  },
  {
   "cell_type": "code",
   "execution_count": 1732,
   "metadata": {},
   "outputs": [],
   "source": [
    "# # W\n",
    "# base_rf_W = evaluate(rf_regr_W,XW_test,yW_test)\n",
    "# print(\"\")\n",
    "# enhan_rf_W = evaluate(rf_regr_W2,XW_test,yW_test)"
   ]
  },
  {
   "cell_type": "code",
   "execution_count": 1733,
   "metadata": {},
   "outputs": [],
   "source": [
    "# print(\"Improvement of {:0.2f}%\".format(100*(enhan_rf_W-base_rf_W)/base_rf_W))"
   ]
  },
  {
   "cell_type": "markdown",
   "metadata": {},
   "source": [
    "### XGBoost"
   ]
  },
  {
   "cell_type": "code",
   "execution_count": 1734,
   "metadata": {},
   "outputs": [],
   "source": [
    "# # RS\n",
    "# xg_RS2 = update_param_xg(xg_RS_random.best_params_,xgbr)\n",
    "# xg_RS2.fit(XG_RSx_train.values,XG_RSy_train.values.ravel())\n",
    "# # RA\n",
    "# xg_RA2 = update_param_xg(xg_RA_random.best_params_,xgbr)\n",
    "# xg_RA2.fit(XG_RAx_train,XG_RAy_train)\n",
    "# # W\n",
    "# xg_W2 = update_param_xg(xg_W_random.best_params_,xgbr)\n",
    "# xg_W2.fit(XG_Wx_train,XG_Wy_train)"
   ]
  },
  {
   "cell_type": "code",
   "execution_count": 1735,
   "metadata": {},
   "outputs": [],
   "source": [
    "# # RS\n",
    "# base_xg_RS = evaluate(xg_RS,XG_RSx_test.values,XG_RSy_test.values.ravel())\n",
    "# print(\"\")\n",
    "# enhan_xg_RS = evaluate(xg_RS2,XG_RSx_test.values,XG_RSy_test.values.ravel())"
   ]
  },
  {
   "cell_type": "code",
   "execution_count": 1736,
   "metadata": {},
   "outputs": [],
   "source": [
    "# print(\"Improvement of {:0.2f}%\".format(100*(enhan_xg_RS-base_xg_RS)/base_xg_RS))"
   ]
  },
  {
   "cell_type": "code",
   "execution_count": 1737,
   "metadata": {},
   "outputs": [],
   "source": [
    "# # RA\n",
    "# base_xg_RA = evaluate(xg_RA,XG_RAx_test.values,XG_RAy_test.values.ravel())\n",
    "# print(\"\")\n",
    "# enhan_xg_RA = evaluate(xg_RA2,XG_RAx_test.values,XG_RAy_test.values.ravel())"
   ]
  },
  {
   "cell_type": "code",
   "execution_count": 1738,
   "metadata": {},
   "outputs": [],
   "source": [
    "# print(\"Improvement of {:0.2f}%\".format(100*(enhan_xg_RA-base_xg_RA)/base_xg_RA))"
   ]
  },
  {
   "cell_type": "code",
   "execution_count": 1739,
   "metadata": {},
   "outputs": [],
   "source": [
    "# # W\n",
    "# base_xg_W = evaluate(xg_W,XG_Wx_test.values,XG_Wy_test.values.ravel())\n",
    "# print(\"\")\n",
    "# enhan_xg_W = evaluate(xg_W2,XG_Wx_test.values,XG_Wy_test.values.ravel())"
   ]
  },
  {
   "cell_type": "code",
   "execution_count": 1740,
   "metadata": {},
   "outputs": [],
   "source": [
    "# print(\"Improvement of {:0.2f}%\".format(100*(enhan_xg_W-base_xg_W)/base_xg_W))"
   ]
  },
  {
   "cell_type": "markdown",
   "metadata": {},
   "source": [
    "## Predictions for MLB 2002 season"
   ]
  },
  {
   "cell_type": "code",
   "execution_count": 1741,
   "metadata": {},
   "outputs": [
    {
     "data": {
      "text/html": [
       "<div>\n",
       "<style scoped>\n",
       "    .dataframe tbody tr th:only-of-type {\n",
       "        vertical-align: middle;\n",
       "    }\n",
       "\n",
       "    .dataframe tbody tr th {\n",
       "        vertical-align: top;\n",
       "    }\n",
       "\n",
       "    .dataframe thead th {\n",
       "        text-align: right;\n",
       "    }\n",
       "</style>\n",
       "<table border=\"1\" class=\"dataframe\">\n",
       "  <thead>\n",
       "    <tr style=\"text-align: right;\">\n",
       "      <th></th>\n",
       "      <th>RS</th>\n",
       "      <th>RA</th>\n",
       "      <th>W</th>\n",
       "      <th>OBP</th>\n",
       "      <th>SLG</th>\n",
       "      <th>BA</th>\n",
       "      <th>OOBP</th>\n",
       "      <th>OSLG</th>\n",
       "      <th>Year</th>\n",
       "      <th>Team</th>\n",
       "      <th>RD</th>\n",
       "    </tr>\n",
       "  </thead>\n",
       "  <tbody>\n",
       "    <tr>\n",
       "      <th>300</th>\n",
       "      <td>851</td>\n",
       "      <td>644</td>\n",
       "      <td>99</td>\n",
       "      <td>0.341</td>\n",
       "      <td>0.433</td>\n",
       "      <td>0.282</td>\n",
       "      <td>0.314</td>\n",
       "      <td>0.392</td>\n",
       "      <td>2002</td>\n",
       "      <td>ANA</td>\n",
       "      <td>207</td>\n",
       "    </tr>\n",
       "    <tr>\n",
       "      <th>301</th>\n",
       "      <td>819</td>\n",
       "      <td>674</td>\n",
       "      <td>98</td>\n",
       "      <td>0.346</td>\n",
       "      <td>0.423</td>\n",
       "      <td>0.267</td>\n",
       "      <td>0.305</td>\n",
       "      <td>0.397</td>\n",
       "      <td>2002</td>\n",
       "      <td>ARI</td>\n",
       "      <td>145</td>\n",
       "    </tr>\n",
       "    <tr>\n",
       "      <th>302</th>\n",
       "      <td>708</td>\n",
       "      <td>565</td>\n",
       "      <td>101</td>\n",
       "      <td>0.331</td>\n",
       "      <td>0.409</td>\n",
       "      <td>0.260</td>\n",
       "      <td>0.313</td>\n",
       "      <td>0.364</td>\n",
       "      <td>2002</td>\n",
       "      <td>ATL</td>\n",
       "      <td>143</td>\n",
       "    </tr>\n",
       "  </tbody>\n",
       "</table>\n",
       "</div>"
      ],
      "text/plain": [
       "      RS   RA    W    OBP    SLG     BA   OOBP   OSLG  Year Team   RD\n",
       "300  851  644   99  0.341  0.433  0.282  0.314  0.392  2002  ANA  207\n",
       "301  819  674   98  0.346  0.423  0.267  0.305  0.397  2002  ARI  145\n",
       "302  708  565  101  0.331  0.409  0.260  0.313  0.364  2002  ATL  143"
      ]
     },
     "execution_count": 1741,
     "metadata": {},
     "output_type": "execute_result"
    }
   ],
   "source": [
    "post_2002.head(3)"
   ]
  },
  {
   "cell_type": "markdown",
   "metadata": {},
   "source": [
    "### Linear Regression"
   ]
  },
  {
   "cell_type": "code",
   "execution_count": 1742,
   "metadata": {},
   "outputs": [
    {
     "ename": "ValueError",
     "evalue": "shapes (23,3) and (2,) not aligned: 3 (dim 1) != 2 (dim 0)",
     "output_type": "error",
     "traceback": [
      "\u001b[0;31m---------------------------------------------------------------------------\u001b[0m",
      "\u001b[0;31mValueError\u001b[0m                                Traceback (most recent call last)",
      "\u001b[0;32m<ipython-input-1742-cb8c34583e5b>\u001b[0m in \u001b[0;36m<module>\u001b[0;34m()\u001b[0m\n\u001b[1;32m      2\u001b[0m \u001b[0mXRS_2002\u001b[0m \u001b[0;34m=\u001b[0m \u001b[0mpost_2002\u001b[0m\u001b[0;34m[\u001b[0m\u001b[0;34m[\u001b[0m\u001b[0;34m\"OBP\"\u001b[0m\u001b[0;34m,\u001b[0m\u001b[0;34m\"SLG\"\u001b[0m\u001b[0;34m,\u001b[0m\u001b[0;34m\"BA\"\u001b[0m\u001b[0;34m]\u001b[0m\u001b[0;34m]\u001b[0m\u001b[0;34m\u001b[0m\u001b[0m\n\u001b[1;32m      3\u001b[0m \u001b[0myRS_2002\u001b[0m \u001b[0;34m=\u001b[0m \u001b[0mpost_2002\u001b[0m\u001b[0;34m[\u001b[0m\u001b[0;34m\"RS\"\u001b[0m\u001b[0;34m]\u001b[0m\u001b[0;34m\u001b[0m\u001b[0m\n\u001b[0;32m----> 4\u001b[0;31m \u001b[0mRSpred_2002\u001b[0m \u001b[0;34m=\u001b[0m \u001b[0mregr_RS\u001b[0m\u001b[0;34m.\u001b[0m\u001b[0mpredict\u001b[0m\u001b[0;34m(\u001b[0m\u001b[0mXRS_2002\u001b[0m\u001b[0;34m)\u001b[0m\u001b[0;34m\u001b[0m\u001b[0m\n\u001b[0m\u001b[1;32m      5\u001b[0m \u001b[0mRScomp_2002\u001b[0m \u001b[0;34m=\u001b[0m \u001b[0mpd\u001b[0m\u001b[0;34m.\u001b[0m\u001b[0mDataFrame\u001b[0m\u001b[0;34m(\u001b[0m\u001b[0;34m{\u001b[0m\u001b[0;34m\"Actual_RS\"\u001b[0m\u001b[0;34m:\u001b[0m\u001b[0myRS_2002\u001b[0m\u001b[0;34m,\u001b[0m\u001b[0;34m\"Predicted_RS\"\u001b[0m\u001b[0;34m:\u001b[0m\u001b[0mRSpred_2002\u001b[0m\u001b[0;34m}\u001b[0m\u001b[0;34m)\u001b[0m\u001b[0;34m\u001b[0m\u001b[0m\n\u001b[1;32m      6\u001b[0m \u001b[0mRScomp_2002\u001b[0m\u001b[0;34m[\u001b[0m\u001b[0;34m\"Team\"\u001b[0m\u001b[0;34m]\u001b[0m \u001b[0;34m=\u001b[0m \u001b[0mpost_2002\u001b[0m\u001b[0;34m[\u001b[0m\u001b[0;34m\"Team\"\u001b[0m\u001b[0;34m]\u001b[0m\u001b[0;34m\u001b[0m\u001b[0m\n",
      "\u001b[0;32m~/anaconda3/lib/python3.6/site-packages/sklearn/linear_model/base.py\u001b[0m in \u001b[0;36mpredict\u001b[0;34m(self, X)\u001b[0m\n\u001b[1;32m    254\u001b[0m             \u001b[0mReturns\u001b[0m \u001b[0mpredicted\u001b[0m \u001b[0mvalues\u001b[0m\u001b[0;34m.\u001b[0m\u001b[0;34m\u001b[0m\u001b[0m\n\u001b[1;32m    255\u001b[0m         \"\"\"\n\u001b[0;32m--> 256\u001b[0;31m         \u001b[0;32mreturn\u001b[0m \u001b[0mself\u001b[0m\u001b[0;34m.\u001b[0m\u001b[0m_decision_function\u001b[0m\u001b[0;34m(\u001b[0m\u001b[0mX\u001b[0m\u001b[0;34m)\u001b[0m\u001b[0;34m\u001b[0m\u001b[0m\n\u001b[0m\u001b[1;32m    257\u001b[0m \u001b[0;34m\u001b[0m\u001b[0m\n\u001b[1;32m    258\u001b[0m     \u001b[0m_preprocess_data\u001b[0m \u001b[0;34m=\u001b[0m \u001b[0mstaticmethod\u001b[0m\u001b[0;34m(\u001b[0m\u001b[0m_preprocess_data\u001b[0m\u001b[0;34m)\u001b[0m\u001b[0;34m\u001b[0m\u001b[0m\n",
      "\u001b[0;32m~/anaconda3/lib/python3.6/site-packages/sklearn/linear_model/base.py\u001b[0m in \u001b[0;36m_decision_function\u001b[0;34m(self, X)\u001b[0m\n\u001b[1;32m    239\u001b[0m         \u001b[0mX\u001b[0m \u001b[0;34m=\u001b[0m \u001b[0mcheck_array\u001b[0m\u001b[0;34m(\u001b[0m\u001b[0mX\u001b[0m\u001b[0;34m,\u001b[0m \u001b[0maccept_sparse\u001b[0m\u001b[0;34m=\u001b[0m\u001b[0;34m[\u001b[0m\u001b[0;34m'csr'\u001b[0m\u001b[0;34m,\u001b[0m \u001b[0;34m'csc'\u001b[0m\u001b[0;34m,\u001b[0m \u001b[0;34m'coo'\u001b[0m\u001b[0;34m]\u001b[0m\u001b[0;34m)\u001b[0m\u001b[0;34m\u001b[0m\u001b[0m\n\u001b[1;32m    240\u001b[0m         return safe_sparse_dot(X, self.coef_.T,\n\u001b[0;32m--> 241\u001b[0;31m                                dense_output=True) + self.intercept_\n\u001b[0m\u001b[1;32m    242\u001b[0m \u001b[0;34m\u001b[0m\u001b[0m\n\u001b[1;32m    243\u001b[0m     \u001b[0;32mdef\u001b[0m \u001b[0mpredict\u001b[0m\u001b[0;34m(\u001b[0m\u001b[0mself\u001b[0m\u001b[0;34m,\u001b[0m \u001b[0mX\u001b[0m\u001b[0;34m)\u001b[0m\u001b[0;34m:\u001b[0m\u001b[0;34m\u001b[0m\u001b[0m\n",
      "\u001b[0;32m~/anaconda3/lib/python3.6/site-packages/sklearn/utils/extmath.py\u001b[0m in \u001b[0;36msafe_sparse_dot\u001b[0;34m(a, b, dense_output)\u001b[0m\n\u001b[1;32m    138\u001b[0m         \u001b[0;32mreturn\u001b[0m \u001b[0mret\u001b[0m\u001b[0;34m\u001b[0m\u001b[0m\n\u001b[1;32m    139\u001b[0m     \u001b[0;32melse\u001b[0m\u001b[0;34m:\u001b[0m\u001b[0;34m\u001b[0m\u001b[0m\n\u001b[0;32m--> 140\u001b[0;31m         \u001b[0;32mreturn\u001b[0m \u001b[0mnp\u001b[0m\u001b[0;34m.\u001b[0m\u001b[0mdot\u001b[0m\u001b[0;34m(\u001b[0m\u001b[0ma\u001b[0m\u001b[0;34m,\u001b[0m \u001b[0mb\u001b[0m\u001b[0;34m)\u001b[0m\u001b[0;34m\u001b[0m\u001b[0m\n\u001b[0m\u001b[1;32m    141\u001b[0m \u001b[0;34m\u001b[0m\u001b[0m\n\u001b[1;32m    142\u001b[0m \u001b[0;34m\u001b[0m\u001b[0m\n",
      "\u001b[0;31mValueError\u001b[0m: shapes (23,3) and (2,) not aligned: 3 (dim 1) != 2 (dim 0)"
     ]
    }
   ],
   "source": [
    "# RS\n",
    "XRS_2002 = post_2002[[\"OBP\",\"SLG\",\"BA\"]]\n",
    "yRS_2002 = post_2002[\"RS\"]\n",
    "RSpred_2002 = regr_RS.predict(XRS_2002)\n",
    "RScomp_2002 = pd.DataFrame({\"Actual_RS\":yRS_2002,\"Predicted_RS\":RSpred_2002})\n",
    "RScomp_2002[\"Team\"] = post_2002[\"Team\"]\n",
    "RScomp_2002.head(3)"
   ]
  },
  {
   "cell_type": "code",
   "execution_count": null,
   "metadata": {},
   "outputs": [],
   "source": [
    "# RA\n",
    "XRA_2002 = post_2002[[\"OOBP\",\"OSLG\"]]\n",
    "yRA_2002 = post_2002[\"RA\"]\n",
    "RApred_2002 = regr_RA.predict(XRA_2002)\n",
    "RAcomp_2002 = pd.DataFrame({\"Actual_RA\":yRA_2002,\"Predicted_RA\":RApred_2002})\n",
    "RAcomp_2002[\"Team\"] = post_2002[\"Team\"]\n",
    "RAcomp_2002.head(3)"
   ]
  },
  {
   "cell_type": "code",
   "execution_count": null,
   "metadata": {},
   "outputs": [],
   "source": [
    "XRA_2002.shape"
   ]
  },
  {
   "cell_type": "code",
   "execution_count": null,
   "metadata": {},
   "outputs": [],
   "source": [
    "# W\n",
    "XRD_2002 = post_2002[[\"RD\"]]\n",
    "yW_2002 = post_2002[\"W\"]\n",
    "Wpred_2002 = regr_W.predict(XRD_2002)\n",
    "Wcomp_2002 = pd.DataFrame({\"Actual_W\":yW_2002,\"Predicted_W\":Wpred_2002})\n",
    "Wcomp_2002[\"Team\"] = post_2002[\"Team\"]\n",
    "Wcomp_2002.head(3)"
   ]
  },
  {
   "cell_type": "markdown",
   "metadata": {},
   "source": [
    "### SVR"
   ]
  },
  {
   "cell_type": "code",
   "execution_count": null,
   "metadata": {},
   "outputs": [],
   "source": [
    "# RS\n",
    "scRSX_2002,scRSy_2002,RSysc_2002 = scale_data(XRS_2002,yRS_2002)\n",
    "\n",
    "# RA\n",
    "scRAX_2002,scRAy_2002,RAysc_2002 = scale_data(XRA_2002,yRA_2002)\n",
    "# W\n",
    "scRDX_2002,scWy_2002,Wysc_2002 = scale_data(XRD_2002,yW_2002)\n",
    "\n",
    "svrRS_pred_2002 = RSysc_2002.inverse_transform(svr_RS.predict(scRSX_2002))\n",
    "svrRA_pred_2002 = RAysc_2002.inverse_transform(svr_RA.predict(scRAX_2002))\n",
    "svrW_pred_2002 = Wysc_2002.inverse_transform(svr_W.predict(scRDX_2002))"
   ]
  },
  {
   "cell_type": "code",
   "execution_count": null,
   "metadata": {},
   "outputs": [],
   "source": [
    "# RS\n",
    "svrRS_comp_2002 = pd.DataFrame({'SVR_RS':RSysc_2002.inverse_transform(scRSy_2002).ravel(),'SVR_Pred_RS':svrRS_pred_2002})\n",
    "svrRS_comp_2002.head(5)"
   ]
  },
  {
   "cell_type": "code",
   "execution_count": null,
   "metadata": {},
   "outputs": [],
   "source": [
    "# RA\n",
    "svrRA_comp_2002 = pd.DataFrame({'SVR_RA':RAysc_2002.inverse_transform(scRAy_2002).ravel(),'SVR_Pred_RA':svrRA_pred_2002})\n",
    "svrRA_comp_2002.head(5)"
   ]
  },
  {
   "cell_type": "code",
   "execution_count": null,
   "metadata": {},
   "outputs": [],
   "source": [
    "# W\n",
    "svrW_comp_2002 = pd.DataFrame({'SVR_W':Wysc_2002.inverse_transform(scWy_2002).ravel(),'SVR_Pred_W':svrW_pred_2002})\n",
    "svrW_comp_2002.head(5)"
   ]
  },
  {
   "cell_type": "markdown",
   "metadata": {},
   "source": [
    "### Random Forest"
   ]
  },
  {
   "cell_type": "code",
   "execution_count": null,
   "metadata": {},
   "outputs": [],
   "source": [
    "# making predictions\n",
    "rfRS_pred_2002 = rf_regr_RS.predict(XRS_2002)\n",
    "rfRA_pred_2002 = rf_regr_RA.predict(XRA_2002)\n",
    "rfW_pred_2002 = rf_regr_W.predict(XRD_2002)"
   ]
  },
  {
   "cell_type": "code",
   "execution_count": null,
   "metadata": {},
   "outputs": [],
   "source": [
    "# RS\n",
    "svrRS_comp_2002 = pd.DataFrame({'RandomForest_RS':yRS_2002,'RandomForest_Pred_RS':rfRS_pred_2002})\n",
    "svrRS_comp_2002[\"Team\"] = post_2002[\"Team\"]\n",
    "svrRS_comp_2002.head(5)"
   ]
  },
  {
   "cell_type": "code",
   "execution_count": null,
   "metadata": {},
   "outputs": [],
   "source": [
    "# RA\n",
    "svrRA_comp_2002 = pd.DataFrame({'RandomForest_RA':yRA_2002,'RandomForest_Pred_RS':rfRA_pred_2002})\n",
    "svrRA_comp_2002[\"Team\"] = post_2002[\"Team\"]\n",
    "svrRA_comp_2002.head(5)"
   ]
  },
  {
   "cell_type": "code",
   "execution_count": null,
   "metadata": {},
   "outputs": [],
   "source": [
    "# W\n",
    "svrW_comp_2002 = pd.DataFrame({'RandomForest_W':yW_2002,'RandomForest_Pred_W':rfW_pred_2002})\n",
    "svrW_comp_2002[\"Team\"] = post_2002[\"Team\"]\n",
    "svrW_comp_2002.head(5)"
   ]
  },
  {
   "cell_type": "markdown",
   "metadata": {},
   "source": [
    "### XGBoost"
   ]
  },
  {
   "cell_type": "code",
   "execution_count": null,
   "metadata": {},
   "outputs": [],
   "source": [
    "def convert_features_2002(list_features):\n",
    "    df = post_2002[list_features]\n",
    "    \n",
    "    if len(list_features) >= 2:\n",
    "        df = df.rename(columns={df.columns[0]:\"f0\",df.columns[1]:\"f1\"})\n",
    "        return df[[\"f0\",\"f1\"]]\n",
    "    else:\n",
    "        df = df.rename(columns={df.columns[0]:\"f0\"})\n",
    "        return df[[\"f0\"]]"
   ]
  },
  {
   "cell_type": "code",
   "execution_count": null,
   "metadata": {},
   "outputs": [],
   "source": [
    "# RS \n",
    "X1RS_2002 = convert_features_2002([\"OBP\",\"SLG\"])\n",
    "\n",
    "# RA\n",
    "X1RA_2002 = convert_features_2002([\"OOBP\",\"OSLG\"])\n",
    "\n",
    "# W\n",
    "X1W_2002 = convert_features_2002([\"RD\"])"
   ]
  },
  {
   "cell_type": "code",
   "execution_count": null,
   "metadata": {},
   "outputs": [],
   "source": [
    "xgRS_pred_2002 = xg_RS.predict(X1RS_2002)\n",
    "xgRA_pred_2002 = xg_RA.predict(X1RA_2002)\n",
    "xgW_pred_2002 = xg_W.predict(X1W_2002)"
   ]
  },
  {
   "cell_type": "code",
   "execution_count": null,
   "metadata": {},
   "outputs": [],
   "source": [
    "# RS\n",
    "svrRS_comp_2002 = pd.DataFrame({'xg_RS':yRS_2002,'XGBoost_Pred_RS':xgRS_pred_2002})\n",
    "svrRS_comp_2002[\"Team\"] = post_2002[\"Team\"]\n",
    "svrRS_comp_2002.head(5)"
   ]
  },
  {
   "cell_type": "code",
   "execution_count": null,
   "metadata": {},
   "outputs": [],
   "source": [
    "# RA\n",
    "svrRA_comp_2002 = pd.DataFrame({'xg_RA':yRA_2002,'XGBoost_Pred_RS':xgRA_pred_2002})\n",
    "svrRA_comp_2002[\"Team\"] = post_2002[\"Team\"]\n",
    "svrRA_comp_2002.head(5)"
   ]
  },
  {
   "cell_type": "code",
   "execution_count": null,
   "metadata": {},
   "outputs": [],
   "source": [
    "# W\n",
    "svrW_comp_2002 = pd.DataFrame({'xg_W':yW_2002,'XGBoost_Pred_W':xgW_pred_2002})\n",
    "svrW_comp_2002[\"Team\"] = post_2002[\"Team\"]\n",
    "svrW_comp_2002.head(5)"
   ]
  }
 ],
 "metadata": {
  "kernelspec": {
   "display_name": "Python 3",
   "language": "python",
   "name": "python3"
  },
  "language_info": {
   "codemirror_mode": {
    "name": "ipython",
    "version": 3
   },
   "file_extension": ".py",
   "mimetype": "text/x-python",
   "name": "python",
   "nbconvert_exporter": "python",
   "pygments_lexer": "ipython3",
   "version": "3.6.4"
  }
 },
 "nbformat": 4,
 "nbformat_minor": 2
}
